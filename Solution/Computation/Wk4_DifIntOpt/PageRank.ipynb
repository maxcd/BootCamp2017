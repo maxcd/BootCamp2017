{
 "cells": [
  {
   "cell_type": "markdown",
   "metadata": {},
   "source": [
    "## The Page Rank Algorithm"
   ]
  },
  {
   "cell_type": "code",
   "execution_count": 90,
   "metadata": {},
   "outputs": [],
   "source": [
    "import numpy as np \n",
    "from numpy import linalg as la\n",
    "from scipy.sparse import dok_matrix"
   ]
  },
  {
   "cell_type": "markdown",
   "metadata": {},
   "source": [
    "### Probem 1.\n",
    "#### reading in a matrix file annd turning 'sinks' into rows of ones"
   ]
  },
  {
   "cell_type": "code",
   "execution_count": 83,
   "metadata": {},
   "outputs": [],
   "source": [
    "def make_adj_mat(filename, N):\n",
    "    A = np.zeros((N, N))\n",
    "    with open(filename) as f:\n",
    "        for line in f:\n",
    "            try:\n",
    "                i, j = line.strip().split()\n",
    "                i = int(i)\n",
    "                j = int(j)\n",
    "                A[i, j] = 1   \n",
    "            except ValueError:\n",
    "                pass\n",
    "            \n",
    "        is_sink = A.sum(axis=1) == 0\n",
    "        sinks = np.where(is_sink == True)\n",
    "        A[sinks,:] = 1\n",
    "    return dok_matrix(A)         "
   ]
  },
  {
   "cell_type": "code",
   "execution_count": 85,
   "metadata": {},
   "outputs": [
    {
     "name": "stdout",
     "output_type": "stream",
     "text": [
      "[[ 0.  0.  0.  0.  0.  0.  0.  1.]\n",
      " [ 1.  0.  0.  0.  0.  0.  0.  0.]\n",
      " [ 1.  1.  1.  1.  1.  1.  1.  1.]\n",
      " [ 1.  0.  1.  0.  0.  0.  1.  0.]\n",
      " [ 1.  0.  0.  0.  0.  1.  1.  0.]\n",
      " [ 1.  0.  0.  0.  0.  0.  1.  0.]\n",
      " [ 1.  0.  0.  0.  0.  0.  0.  0.]\n",
      " [ 1.  0.  0.  0.  0.  0.  0.  0.]]\n"
     ]
    }
   ],
   "source": [
    "A = make_adj_mat(r'matrix.txt', 8)\n",
    "print(A.toarray())"
   ]
  },
  {
   "cell_type": "markdown",
   "metadata": {},
   "source": [
    "### Problem 2.\n",
    "#### compute the K matrix for a given adj matrix A"
   ]
  },
  {
   "cell_type": "code",
   "execution_count": 107,
   "metadata": {},
   "outputs": [],
   "source": [
    "def make_K(A):\n",
    "    A = A.toarray()\n",
    "    Outs = A.sum(axis=1)\n",
    "    D = np.diag(Outs)\n",
    "    print(Outs.shape)\n",
    "    \n",
    "    K = A.T / Outs\n",
    "    \n",
    "    return dok_matrix(K)\n",
    "    \n",
    "    "
   ]
  },
  {
   "cell_type": "code",
   "execution_count": 110,
   "metadata": {},
   "outputs": [
    {
     "name": "stdout",
     "output_type": "stream",
     "text": [
      "(8,)\n",
      "  (1, 2)\t0.125\n",
      "  (3, 2)\t0.125\n",
      "  (6, 4)\t0.333333333333\n",
      "  (0, 4)\t0.333333333333\n",
      "  (5, 4)\t0.333333333333\n",
      "  (0, 7)\t1.0\n",
      "  (6, 2)\t0.125\n",
      "  (0, 5)\t0.5\n",
      "  (4, 2)\t0.125\n",
      "  (0, 3)\t0.333333333333\n",
      "  (7, 2)\t0.125\n",
      "  (0, 1)\t1.0\n",
      "  (7, 0)\t1.0\n",
      "  (6, 3)\t0.333333333333\n",
      "  (0, 6)\t1.0\n",
      "  (6, 5)\t0.5\n",
      "  (2, 2)\t0.125\n",
      "  (2, 3)\t0.333333333333\n",
      "  (5, 2)\t0.125\n",
      "  (0, 2)\t0.125\n"
     ]
    }
   ],
   "source": [
    "K = make_K(A)\n",
    "print(K)"
   ]
  },
  {
   "cell_type": "markdown",
   "metadata": {},
   "source": [
    "### Probllem 3.\n",
    "#### compute the Page rank numerically"
   ]
  },
  {
   "cell_type": "code",
   "execution_count": 144,
   "metadata": {},
   "outputs": [],
   "source": [
    "def get_pagerank_num(A, N=None, d=0.85, tol=1e-5):\n",
    "    if N is None:\n",
    "        N = np.min(A.shape)\n",
    "    A_upper = A[:N,:N]\n",
    "    \n",
    "    K = make_K(A)\n",
    "    K = K.toarray()\n",
    "    \n",
    "    p_0 = np.random.random(N).reshape((N,1))\n",
    "    const = ((1 -d) / N ) * np.ones((N, 1))\n",
    "    pdist = 1\n",
    "    while pdist > tol:\n",
    "        p_t = d * K @ p_0 + const\n",
    "        pdist = la.norm(p_t - p_0)\n",
    "        p_0 = np.copy(p_t)\n",
    "    \n",
    "    return p_0"
   ]
  },
  {
   "cell_type": "code",
   "execution_count": 145,
   "metadata": {},
   "outputs": [
    {
     "name": "stdout",
     "output_type": "stream",
     "text": [
      "(8,)\n"
     ]
    },
    {
     "data": {
      "text/plain": [
       "array([[ 0.43870408],\n",
       "       [ 0.02171029],\n",
       "       [ 0.02786154],\n",
       "       [ 0.02171029],\n",
       "       [ 0.02171029],\n",
       "       [ 0.02786154],\n",
       "       [ 0.04585394],\n",
       "       [ 0.39460461]])"
      ]
     },
     "execution_count": 145,
     "metadata": {},
     "output_type": "execute_result"
    }
   ],
   "source": [
    "p_star = get_pagerank_num(A)\n",
    "p_star"
   ]
  },
  {
   "cell_type": "markdown",
   "metadata": {},
   "source": [
    "### Problem 4.\n",
    "#### compute Page rank using eigenvalues\n"
   ]
  },
  {
   "cell_type": "code",
   "execution_count": 167,
   "metadata": {
    "collapsed": true
   },
   "outputs": [],
   "source": [
    "def get_pagerank_eig(A, N=None, d=0.85):\n",
    "    if N is None:\n",
    "        N = np.min(A.shape)\n",
    "    A_upper = A[:N,:N]\n",
    "    \n",
    "    K = make_K(A)\n",
    "    K = K.toarray()\n",
    "    \n",
    "    p_0 = np.random.random(N).reshape((N,1))\n",
    "    \n",
    "    const = ((1 -d) / N ) * np.ones((N, 1))\n",
    "    B = (d * K + const)\n",
    "    \n",
    "    w, v = la.eig(B)\n",
    "    \n",
    "    p_t = v[0]\n",
    "    \n",
    "    return p_t "
   ]
  },
  {
   "cell_type": "code",
   "execution_count": 169,
   "metadata": {},
   "outputs": [
    {
     "name": "stdout",
     "output_type": "stream",
     "text": [
      "(8,)\n"
     ]
    },
    {
     "data": {
      "text/plain": [
       "array([ -7.38129111e-01,  -7.07106781e-01,   2.36517595e-01,\n",
       "        -9.45845122e-17,  -1.29826927e-01,  -2.77839441e-09,\n",
       "         2.77839403e-09,  -1.86179804e-16])"
      ]
     },
     "execution_count": 169,
     "metadata": {},
     "output_type": "execute_result"
    }
   ],
   "source": [
    "b = get_pagerank_eig(A)\n",
    "b"
   ]
  },
  {
   "cell_type": "code",
   "execution_count": null,
   "metadata": {
    "collapsed": true
   },
   "outputs": [],
   "source": []
  },
  {
   "cell_type": "code",
   "execution_count": null,
   "metadata": {
    "collapsed": true
   },
   "outputs": [],
   "source": []
  }
 ],
 "metadata": {
  "kernelspec": {
   "display_name": "Python [default]",
   "language": "python",
   "name": "python3"
  },
  "language_info": {
   "codemirror_mode": {
    "name": "ipython",
    "version": 3
   },
   "file_extension": ".py",
   "mimetype": "text/x-python",
   "name": "python",
   "nbconvert_exporter": "python",
   "pygments_lexer": "ipython3",
   "version": "3.5.3"
  }
 },
 "nbformat": 4,
 "nbformat_minor": 2
}
