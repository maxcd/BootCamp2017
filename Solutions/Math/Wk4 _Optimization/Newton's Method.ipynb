{
 "cells": [
  {
   "cell_type": "markdown",
   "metadata": {},
   "source": [
    "### Math Problem Set 4 - Intro to Optimization\n",
    " Problem 6.14 of the Book - Code a version of Newton's Method to findinig a minizer of a univariate function."
   ]
  },
  {
   "cell_type": "code",
   "execution_count": 25,
   "metadata": {
    "collapsed": true
   },
   "outputs": [],
   "source": [
    "import numpy as np\n",
    "import matplotlib.pyplot as plt"
   ]
  },
  {
   "cell_type": "code",
   "execution_count": 138,
   "metadata": {},
   "outputs": [],
   "source": [
    "def newton(grad, derv, x_0, maxiters=10000, xtol=1e-10):\n",
    "    \n",
    "    dist = 1\n",
    "    iters = 1\n",
    "    while True:\n",
    "        x_next = x_0 - (grad(x_0)  / derv(x_0))\n",
    "        dist = np.abs(x_next - x_0)\n",
    "        x_0 = np.copy(x_next)\n",
    "        iters+=1\n",
    "        if dist < xtol:\n",
    "            print('convergence achieved after', iters, 'iterations')\n",
    "            break\n",
    "            \n",
    "        elif iters == maxiters:\n",
    "            print('no convergence after', maxiters, 'iterations')\n",
    "            break\n",
    "        \n",
    "    return x_0    "
   ]
  },
  {
   "cell_type": "code",
   "execution_count": 156,
   "metadata": {},
   "outputs": [
    {
     "data": {
      "image/png": "[encoded data removed]",
      "text/plain": [
       "<matplotlib.figure.Figure at 0x17f21daaef0>"
      ]
     },
     "metadata": {},
     "output_type": "display_data"
    }
   ],
   "source": [
    "pol = np.poly1d([2,0,0])\n",
    "pol_prime = np.poly1d([4, 0])\n",
    "pol_double_prime = np.poly1d(4)\n",
    "vals = np.linspace(-1,1)\n",
    "\n",
    "plt.plot(vals, pol(vals))\n",
    "plt.show()"
   ]
  },
  {
   "cell_type": "code",
   "execution_count": 150,
   "metadata": {},
   "outputs": [
    {
     "name": "stdout",
     "output_type": "stream",
     "text": [
      "   2\n",
      "2 x\n"
     ]
    }
   ],
   "source": [
    "print(np.poly1d(pol))"
   ]
  },
  {
   "cell_type": "code",
   "execution_count": 154,
   "metadata": {},
   "outputs": [
    {
     "name": "stdout",
     "output_type": "stream",
     "text": [
      "convergence achieved after 3 iterations\n"
     ]
    }
   ],
   "source": [
    "x = newton(pol_prime, pol_double_prime, x_0=12)"
   ]
  },
  {
   "cell_type": "code",
   "execution_count": 155,
   "metadata": {},
   "outputs": [
    {
     "data": {
      "text/plain": [
       "array(0.0)"
      ]
     },
     "execution_count": 155,
     "metadata": {},
     "output_type": "execute_result"
    }
   ],
   "source": [
    "x"
   ]
  }
 ],
 "metadata": {
  "kernelspec": {
   "display_name": "Python [default]",
   "language": "python",
   "name": "python3"
  },
  "language_info": {
   "codemirror_mode": {
    "name": "ipython",
    "version": 3
   },
   "file_extension": ".py",
   "mimetype": "text/x-python",
   "name": "python",
   "nbconvert_exporter": "python",
   "pygments_lexer": "ipython3",
   "version": "3.5.3"
  }
 },
 "nbformat": 4,
 "nbformat_minor": 2
}
