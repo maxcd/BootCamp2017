{
 "cells": [
  {
   "cell_type": "code",
   "execution_count": 1,
   "metadata": {
    "collapsed": true
   },
   "outputs": [],
   "source": [
    "import numpy as np"
   ]
  },
  {
   "cell_type": "markdown",
   "metadata": {},
   "source": [
    "## Problem 1."
   ]
  },
  {
   "cell_type": "code",
   "execution_count": 2,
   "metadata": {},
   "outputs": [
    {
     "data": {
      "text/plain": [
       "(15, 1.3861587121128613)"
      ]
     },
     "execution_count": 2,
     "metadata": {},
     "output_type": "execute_result"
    }
   ],
   "source": [
    "def L1(x):\n",
    "    return np.exp(x) - 4*x\n",
    "\n",
    "def golden(f, a, b, niter):\n",
    "    rho = (1/2)*(3-np.sqrt(5))\n",
    "    a = a + rho*(b-a)\n",
    "    b = a + (1-rho)*(b-a)\n",
    "    n = 0\n",
    "    midpoint = (1/2)*(a + b)\n",
    "\n",
    "    while (abs(b-a) > 0.001) & (n < niter):\n",
    "        \n",
    "        if f(a) >= f(b):\n",
    "            a = a + rho*(b-a)\n",
    "            midpoint = (1/2)*(a + b)\n",
    "        elif f(a) <= f(b):\n",
    "            b = a + (1-rho)*(b-a)\n",
    "            midpoint = (1/2)*(a + b)\n",
    "            \n",
    "        n = n + 1\n",
    "        \n",
    "    return n, midpoint \n",
    "\n",
    "golden(L1, 0, 3, 1000)"
   ]
  },
  {
   "cell_type": "markdown",
   "metadata": {},
   "source": [
    "## Problem 2."
   ]
  },
  {
   "cell_type": "code",
   "execution_count": 4,
   "metadata": {
    "collapsed": true
   },
   "outputs": [],
   "source": [
    "from scipy.misc import derivative"
   ]
  },
  {
   "cell_type": "code",
   "execution_count": 5,
   "metadata": {},
   "outputs": [
    {
     "data": {
      "text/plain": [
       "(12, 1.2249755859375)"
      ]
     },
     "execution_count": 5,
     "metadata": {},
     "output_type": "execute_result"
    }
   ],
   "source": [
    "def bisect(f, a, b, niter):\n",
    "    x = (b+a)/2\n",
    "    n = 0\n",
    "    \n",
    "    while(abs(b-a) > 0.001) & (n < niter):\n",
    "        fprime = derivative(f, x)\n",
    "        if fprime >= 0:\n",
    "            b = x\n",
    "        elif fprime <= 0:\n",
    "            a = x\n",
    "        x = (b+a)/2\n",
    "        n = n + 1\n",
    "        \n",
    "    return n, x\n",
    "\n",
    "bisect(L1, 0, 3, 1000)"
   ]
  },
  {
   "cell_type": "markdown",
   "metadata": {},
   "source": [
    "## Problem 3."
   ]
  },
  {
   "cell_type": "code",
   "execution_count": 6,
   "metadata": {},
   "outputs": [
    {
     "data": {
      "text/plain": [
       "(48, -1.4473142236328096)"
      ]
     },
     "execution_count": 6,
     "metadata": {},
     "output_type": "execute_result"
    }
   ],
   "source": [
    "def L2(x):\n",
    "    return (x**2) + np.sin(5*x)\n",
    "\n",
    "def newton(fprime, fprimeprime, initial):\n",
    "    xold = initial\n",
    "    xnew = xold - fprime(xold)/fprimeprime(xold)\n",
    "    n = 1\n",
    "    diff = 5\n",
    "    while(diff > 1e-5):\n",
    "        xold = np.copy(xnew)\n",
    "        xnew = xold - (fprime(xold)/fprimeprime(xold))\n",
    "        diff = np.linalg.norm(xnew - xold)/np.linalg.norm(xold)\n",
    "        n = n + 1\n",
    "    return n, xnew\n",
    "\n",
    "def L2prime(x):\n",
    "    return 2*x + 5*np.cos(5*x)\n",
    "\n",
    "def L2primeprime(x):\n",
    "    return 2 - 25*np.sin(5*x)\n",
    "\n",
    "newton(L2prime, L2primeprime, 0)"
   ]
  },
  {
   "cell_type": "markdown",
   "metadata": {},
   "source": [
    "## Prpblem 4."
   ]
  },
  {
   "cell_type": "code",
   "execution_count": 7,
   "metadata": {},
   "outputs": [
    {
     "name": "stdout",
     "output_type": "stream",
     "text": [
      "(8, -0.77697898997149095)\n",
      "(3, -0.16367722112811267)\n",
      "(5, -0.1636772212262588)\n"
     ]
    }
   ],
   "source": [
    "def L3(x):\n",
    "    return (x**2) + np.sin(x) + np.sin(10*x)\n",
    "\n",
    "def L3prime(x):\n",
    "    return 2*x + np.cos(x) + 10*np.cos(10*x)\n",
    "\n",
    "def secant(fprime, x1, x2):\n",
    "    xold = x1\n",
    "    xoldold = x2\n",
    "    fppapprox = (fprime(xold) - fprime(xoldold))/(xold - xoldold)\n",
    "    xnew = xold - fprime(xold)/fppapprox\n",
    "    n = 1\n",
    "    diff = 5\n",
    "    while(diff > 1e-5):\n",
    "        xoldold = np.copy(xold)\n",
    "        xold = np.copy(xnew)\n",
    "        fppapprox = (fprime(xold) - fprime(xoldold))/(xold - xoldold)\n",
    "        xnew = xold - fprime(xold)/fppapprox\n",
    "        diff = abs(xnew - xold)/abs(xold)\n",
    "        n = n + 1\n",
    "    return n, xnew\n",
    "\n",
    "print(secant(L3prime, 0, -1))\n",
    "print(secant(L3prime, -0.15, -0.2))\n",
    "print(secant(L3prime, -0.15, -1))"
   ]
  },
  {
   "cell_type": "markdown",
   "metadata": {},
   "source": [
    "## Problem 5."
   ]
  },
  {
   "cell_type": "code",
   "execution_count": 12,
   "metadata": {},
   "outputs": [
    {
     "name": "stdout",
     "output_type": "stream",
     "text": [
      "My solution:\t\t 0.125\n",
      "Numpy's solution:\t 0.125649913345\n"
     ]
    }
   ],
   "source": [
    "def backtrack(f, jacob, x, p):\n",
    "    alpha = 1\n",
    "    c = 0.5\n",
    "    rho = 0.5\n",
    "    \n",
    "    value = jacob(x).T @ p\n",
    "    while (f(x + alpha*p) > f(x) + c*alpha*value):\n",
    "        alpha = rho*alpha\n",
    "    \n",
    "    return alpha\n",
    "\n",
    "from scipy.optimize import line_search\n",
    "\n",
    "def objective(x):\n",
    "    return x[0]**2 + 4*x[1]**2\n",
    "\n",
    "def grad(x):\n",
    "    return np.array([2*x[0], 8*x[1]])\n",
    "\n",
    "x = np.array([1., 3.])\n",
    "p = -grad(x)\n",
    "a = line_search(objective, grad, x, p)[0]\n",
    "print(\"My solution:\\t\\t\", backtrack(objective, grad, x, p))\n",
    "print(\"Numpy's solution:\\t\", a)"
   ]
  }
 ],
 "metadata": {
  "kernelspec": {
   "display_name": "Python [default]",
   "language": "python",
   "name": "python3"
  },
  "language_info": {
   "codemirror_mode": {
    "name": "ipython",
    "version": 3
   },
   "file_extension": ".py",
   "mimetype": "text/x-python",
   "name": "python",
   "nbconvert_exporter": "python",
   "pygments_lexer": "ipython3",
   "version": "3.5.3"
  }
 },
 "nbformat": 4,
 "nbformat_minor": 2
}
