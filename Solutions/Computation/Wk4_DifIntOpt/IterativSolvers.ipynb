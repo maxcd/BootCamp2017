{
 "cells": [
  {
   "cell_type": "code",
   "execution_count": 1,
   "metadata": {
    "collapsed": true
   },
   "outputs": [],
   "source": [
    "import numpy.linalg as la\n",
    "import numpy as np\n",
    "import matplotlib.pyplot as plt\n",
    "from scipy import sparse"
   ]
  },
  {
   "cell_type": "markdown",
   "metadata": {},
   "source": [
    "## Problem 1."
   ]
  },
  {
   "cell_type": "code",
   "execution_count": 2,
   "metadata": {
    "collapsed": true
   },
   "outputs": [],
   "source": [
    "def jacobi_method(A, b, tol, maxiters):\n",
    "    D = np.diag(A)\n",
    "    U = np.triu(A)\n",
    "    np.fill_diagonal(U, 0)\n",
    "    L = np.tril(A)\n",
    "    np.fill_diagonal(L, 0)\n",
    "    \n",
    "    iters = 0\n",
    "    x = np.zeros(A.shape[0])\n",
    "    while iters < maxiters:\n",
    "        x_n = x + ((b - np.dot(A, x)) / D)\n",
    "        if max(abs(x_n - x)) < tol:\n",
    "            break\n",
    "        x = x_n\n",
    "    return x"
   ]
  },
  {
   "cell_type": "code",
   "execution_count": 3,
   "metadata": {
    "collapsed": true
   },
   "outputs": [],
   "source": [
    "def diag_dom(n, num_entries=None):\n",
    "    \n",
    "    if num_entries is None:\n",
    "        num_entries = int(n**1.5) - n\n",
    "    A = np.zeros((n,n))\n",
    "    rows = np.random.choice(np.arange(0,n), size=num_entries)\n",
    "    cols = np.random.choice(np.arange(0,n), size=num_entries)\n",
    "    data = np.random.randint(-4, 4, size=num_entries)\n",
    "    for i in range(num_entries):\n",
    "        A[rows[i], cols[i]] = data[i]\n",
    "    for i in range(n):\n",
    "        A[i,i] = np.sum(np.abs(A[i])) + 1\n",
    "    return A"
   ]
  },
  {
   "cell_type": "code",
   "execution_count": 4,
   "metadata": {},
   "outputs": [
    {
     "name": "stdout",
     "output_type": "stream",
     "text": [
      "True\n"
     ]
    }
   ],
   "source": [
    "n = 10\n",
    "b = np.random.random(n)\n",
    "A = diag_dom(n)\n",
    "x = jacobi_method(A, b, 1e-5, 1e5)\n",
    "\n",
    "print(np.allclose(A@x, b, 1e-3))"
   ]
  },
  {
   "cell_type": "markdown",
   "metadata": {},
   "source": [
    "## Probem 2."
   ]
  },
  {
   "cell_type": "code",
   "execution_count": 5,
   "metadata": {
    "collapsed": true
   },
   "outputs": [],
   "source": [
    "def jacobi_method_plt(A, b, tol, maxiters, plot=False):\n",
    "    D = np.diag(A)\n",
    "    U = np.triu(A)\n",
    "    np.fill_diagonal(U, 0)\n",
    "    L = np.tril(A)\n",
    "    np.fill_diagonal(L, 0)\n",
    "    \n",
    "    if plot:\n",
    "        errs = np.zeros(int(maxiters))\n",
    "    \n",
    "    iters = 0\n",
    "    x = np.zeros(A.shape[0])\n",
    "    while iters < maxiters:\n",
    "        x_n = x + ((b - np.dot(A, x)) / D)\n",
    "        err = max(abs(x_n - x))\n",
    "        if plot:\n",
    "            errs[iters] = err\n",
    "        if err < tol:\n",
    "            break\n",
    "        x = x_n\n",
    "        iters += 1\n",
    "        \n",
    "    if plot:\n",
    "        xvals = np.arange(0, iters)\n",
    "        plt.semilogy(xvals, errs[:iters])\n",
    "        plt.title(\"Convergence of Jacobi Method\")\n",
    "        plt.xlabel(\"Iteration\")\n",
    "        plt.ylabel(\"Absolute Error of Approximation\")\n",
    "        plt.show()\n",
    "        \n",
    "    return x"
   ]
  },
  {
   "cell_type": "code",
   "execution_count": 6,
   "metadata": {},
   "outputs": [
    {
     "data": {
      "image/png": "[encoded data removed]",
      "text/plain": [
       "<matplotlib.figure.Figure at 0x190aeaa2898>"
      ]
     },
     "metadata": {},
     "output_type": "display_data"
    }
   ],
   "source": [
    "n = 20\n",
    "b = np.random.random(n)\n",
    "A = diag_dom(n)\n",
    "x = jacobi_method_plt(A, b, 1e-5, 1e6, True)"
   ]
  },
  {
   "cell_type": "markdown",
   "metadata": {},
   "source": [
    "## Problem 3."
   ]
  },
  {
   "cell_type": "code",
   "execution_count": 7,
   "metadata": {
    "collapsed": true
   },
   "outputs": [],
   "source": [
    "def gauss_seidel_method(A, b, tol, maxiters, plot=False):\n",
    "    D = np.diag(A)\n",
    "    x = np.zeros(A.shape[0])\n",
    "    \n",
    "    if plot:\n",
    "        errs = np.zeros(maxiters)\n",
    "    \n",
    "    iters = 0\n",
    "    while iters < maxiters:\n",
    "        x0 = np.copy(x)\n",
    "        for i in range(A.shape[0]):\n",
    "            x0 = np.copy(x)\n",
    "            Aix = A[i,:].T @ x0\n",
    "            x[i] = x0[i] + ((b[i] - Aix) / D[i])\n",
    "        err = np.amax(np.absolute(x - x0))\n",
    "\n",
    "        if plot:\n",
    "            errs[iters] = err\n",
    "        if err < tol:\n",
    "            break\n",
    "        iters += 1\n",
    "    \n",
    "    if plot:\n",
    "        xvals = np.arange(0, iters)\n",
    "        plt.semilogy(xvals, errs[:iters])\n",
    "        plt.title(\"Convergence of Gauss Seidel Method\")\n",
    "        plt.xlabel(\"Iteration\")\n",
    "        plt.ylabel(\"Absolute Error of Approximation\")\n",
    "        plt.show() \n",
    "\n",
    "\n",
    "    return x"
   ]
  },
  {
   "cell_type": "code",
   "execution_count": 8,
   "metadata": {},
   "outputs": [
    {
     "data": {
      "image/png": "[encoded data removed]",
      "text/plain": [
       "<matplotlib.figure.Figure at 0x190b0afcc18>"
      ]
     },
     "metadata": {},
     "output_type": "display_data"
    },
    {
     "name": "stdout",
     "output_type": "stream",
     "text": [
      "[ 0.77555149  0.73606017  0.49254662 ...,  0.21096564  0.83300668\n",
      "  0.68558774]\n",
      "[ 0.7755518   0.73606048  0.49254668 ...,  0.21096564  0.83300668\n",
      "  0.68558774]\n"
     ]
    }
   ],
   "source": [
    "n = 2000\n",
    "b = np.random.random(n)\n",
    "A = diag_dom(n)\n",
    "x = gauss_seidel_method(A, b, 1e-8, 1000, True)\n",
    "\n",
    "print(A @ x)\n",
    "print(b)"
   ]
  },
  {
   "cell_type": "markdown",
   "metadata": {},
   "source": [
    "## Problem 4."
   ]
  },
  {
   "cell_type": "code",
   "execution_count": 10,
   "metadata": {},
   "outputs": [],
   "source": [
    "def gauss_seidel_sparse(A, b, tol, maxiters):\n",
    "    D = sparse.csr_matrix.diagonal(A)\n",
    "    x = np.zeros(A.shape[0])\n",
    "    \n",
    "    iters = 0\n",
    "    while iters < maxiters:\n",
    "        x0 = np.copy(x)\n",
    "        for i in range(A.shape[0]):\n",
    "            x0 = np.copy(x)\n",
    "            rowstart = A.indptr[i]\n",
    "            rowend = A.indptr[i + 1]\n",
    "            Aix = A.data[rowstart:rowend] @ x[A.indices[rowstart:rowend]]\n",
    "            x[i] = x0[i] + ((b[i] - Aix) / D[i])\n",
    "        err = np.amax(np.absolute(x - x0))\n",
    "        if err < tol:\n",
    "            break\n",
    "    \n",
    "    return x"
   ]
  },
  {
   "cell_type": "code",
   "execution_count": 11,
   "metadata": {},
   "outputs": [
    {
     "name": "stdout",
     "output_type": "stream",
     "text": [
      "[ 0.45469594  0.91496774  0.82619454  0.3808535   0.05219173  0.80734627\n",
      "  0.00338335  0.08471784  0.90396369  0.06975908]\n",
      "[ 0.45469594  0.91496774  0.82130415  0.66590418  0.05463692  0.80734627\n",
      "  0.00338335  0.08471784  0.90396369  0.06975908]\n"
     ]
    }
   ],
   "source": [
    "\n",
    "n = 10\n",
    "b = np.random.random(n)\n",
    "A = sparse.csr_matrix(diag_dom(n))\n",
    "x = gauss_seidel_sparse(A, b, 1e-6, 1000)\n",
    "\n",
    "print(A @ x)\n",
    "print(b)"
   ]
  },
  {
   "cell_type": "markdown",
   "metadata": {},
   "source": [
    " ## Problem 5."
   ]
  },
  {
   "cell_type": "code",
   "execution_count": 12,
   "metadata": {
    "collapsed": true
   },
   "outputs": [],
   "source": [
    "def sor_method(A, b, omega, tol, maxiters):\n",
    "    D = sparse.csr_matrix.diagonal(A)\n",
    "    x = np.zeros(A.shape[0])\n",
    "    \n",
    "    iters = 0\n",
    "    while iters < maxiters:\n",
    "        x0 = np.copy(x)\n",
    "        for i in range(A.shape[0]):\n",
    "            x0 = np.copy(x)\n",
    "            rowstart = A.indptr[i]\n",
    "            rowend = A.indptr[i + 1]\n",
    "            Aix = A.data[rowstart:rowend] @ x[A.indices[rowstart:rowend]]\n",
    "            x[i] = x0[i] + (omega * (b[i] - Aix) / D[i])\n",
    "        err = np.amax(np.absolute(x - x0))\n",
    "        if err < tol:\n",
    "            break\n",
    "        iters += 1\n",
    "    \n",
    "    return x, iters"
   ]
  },
  {
   "cell_type": "markdown",
   "metadata": {},
   "source": [
    "## Problem 6."
   ]
  },
  {
   "cell_type": "code",
   "execution_count": 13,
   "metadata": {
    "collapsed": true
   },
   "outputs": [],
   "source": [
    "import numpy as np\n",
    "\n",
    "def problem6(n, omega, tol = 1e-8, maxiters = 100, plot = False):\n",
    "    B = sparse.diags(np.ones(n)*-4) + sparse.diags(np.ones(n-1), -1) + sparse.diags(np.ones(n-1), 1)\n",
    "    diags = []\n",
    "    for i in range(n):\n",
    "        diags.append(B)\n",
    "    A = sparse.block_diag(diags)\n",
    "    A = A + sparse.diags(np.ones(n**2 - n), n) + sparse.diags(np.ones(n**2 - n), -(n))\n",
    "    b = np.zeros(n)\n",
    "    b[0] = -100\n",
    "    b[n-1] = -100\n",
    "    b = np.tile(b, n)\n",
    "    u = sor_method(A, b, omega, tol, maxiters) \n",
    "    \n",
    "    if plot == False:\n",
    "        return u, u[1] \n",
    "    \n",
    "    if plot == True:\n",
    "        umat = np.reshape(u[0],(n,n))\n",
    "        X = np.arange(1, n+1, 1) \n",
    "        Y = np.arange(1, n+1, 1)\n",
    "        xx, yy = np.meshgrid(X,Y)\n",
    "        plt.pcolormesh(xx, yy, umat, cmap = \"coolwarm\") #if this doesn't work, change xx and yy to X and Y\n",
    "        plt.title(\"Heatmap of Plate's Temperature in Steady State\")\n",
    "        plt.colorbar()\n",
    "        plt.show()\n",
    "        return u, u[1]"
   ]
  },
  {
   "cell_type": "code",
   "execution_count": 15,
   "metadata": {},
   "outputs": [
    {
     "data": {
      "image/png": "[encoded data removed]",
      "text/plain": [
       "<matplotlib.figure.Figure at 0x190aeb5a6a0>"
      ]
     },
     "metadata": {},
     "output_type": "display_data"
    }
   ],
   "source": [
    "n = 10\n",
    "omega = 1\n",
    "u, u1 = problem6(n, omega, plot=True)"
   ]
  },
  {
   "cell_type": "markdown",
   "metadata": {},
   "source": [
    "## Problem 7."
   ]
  },
  {
   "cell_type": "code",
   "execution_count": 16,
   "metadata": {
    "collapsed": true
   },
   "outputs": [],
   "source": [
    "def problem7():\n",
    "    omegavec = np.arange(1, 2, 0.05)\n",
    "    n = 20\n",
    "    itervec = np.zeros((len(omegavec),1))\n",
    "    for i in range(len(omegavec)):\n",
    "        itervec[i] = problem6(n, omegavec[i], tol = 1e-2, maxiters = 1000, plot = False)[1]\n",
    "    plt.plot(omegavec, itervec)\n",
    "    plt.xlabel(\"Omega\")\n",
    "    plt.ylabel(\"Number of Iterations\")\n",
    "    plt.title(\"Number of Iterations as a Function of Omega\")\n",
    "    plt.show()\n",
    "    \n",
    "    minindex = np.argmin(itervec)\n",
    "    return omegavec[minindex]"
   ]
  },
  {
   "cell_type": "code",
   "execution_count": 17,
   "metadata": {},
   "outputs": [
    {
     "data": {
      "image/png": "[encoded data removed]",
      "text/plain": [
       "<matplotlib.figure.Figure at 0x190aecb3668>"
      ]
     },
     "metadata": {},
     "output_type": "display_data"
    },
    {
     "name": "stdout",
     "output_type": "stream",
     "text": [
      "Minimizing index: 1.75\n"
     ]
    }
   ],
   "source": [
    "minindex = problem7()\n",
    "print(\"Minimizing index:\", minindex)"
   ]
  }
 ],
 "metadata": {
  "kernelspec": {
   "display_name": "Python [default]",
   "language": "python",
   "name": "python3"
  },
  "language_info": {
   "codemirror_mode": {
    "name": "ipython",
    "version": 3
   },
   "file_extension": ".py",
   "mimetype": "text/x-python",
   "name": "python",
   "nbconvert_exporter": "python",
   "pygments_lexer": "ipython3",
   "version": "3.5.3"
  }
 },
 "nbformat": 4,
 "nbformat_minor": 2
}
