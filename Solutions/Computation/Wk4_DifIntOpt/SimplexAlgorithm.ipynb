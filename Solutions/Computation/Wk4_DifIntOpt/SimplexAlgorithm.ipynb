{
 "cells": [
  {
   "cell_type": "code",
   "execution_count": 3,
   "metadata": {
    "collapsed": true
   },
   "outputs": [],
   "source": [
    "import numpy as np"
   ]
  },
  {
   "cell_type": "code",
   "execution_count": 652,
   "metadata": {},
   "outputs": [],
   "source": [
    "class SimplexSolver(object):\n",
    "    \n",
    "    def __init__(self, c, A, b):\n",
    "        self.c = c\n",
    "        self.A = A\n",
    "        self.b = b\n",
    "        self.m, self.n = A.shape\n",
    "        \n",
    "        origin = np.zeros(A.shape[1])\n",
    "        is_not_feasible = (A @ origin > b).all()\n",
    "        \n",
    "        if is_not_feasible:\n",
    "            raise ValueError('Origin is not in range of A.')\n",
    "        else:\n",
    "            # print('Origin is in range of A.')\n",
    "            \n",
    "            # introduce m slack variables when A is an mxn matrix \n",
    "            # one for each constraint equation\n",
    "            \n",
    "            #self.slack\n",
    "            \n",
    "            # keep track of the n variables\n",
    "            # first the basic (i.e. non-zero) variables\n",
    "            \n",
    "            self.tracklist = list(range(self.n, self.m+self.n))\n",
    "            self.tracklist += range(self.n)\n",
    "\n",
    "        \n",
    "    def make_tableau(self):\n",
    "        A_bar = np.concatenate([A, np.identity(self.m)], axis=1)\n",
    "        c_bar = np.concatenate([c, np.zeros(self.m)])\n",
    "\n",
    "        tab1 = np.concatenate([np.array([0]), -1*c_bar, np.array([1])])\n",
    "        tab2 = np.concatenate([b.reshape(self.m ,1), A_bar,\n",
    "                               np.zeros((self.m, 1))], axis=1)\n",
    "\n",
    "        self.tableau = np.concatenate([tab1.reshape(1, len(tab1)),\n",
    "                                       tab2],\n",
    "                                      axis=0)\n",
    "    def blands_rule(self):\n",
    "        # to determine the pivot column\n",
    "        # find the first negativ element in the top row\n",
    "        neg_values = np.where(self.tableau[0] < 0)\n",
    "        entry = neg_values[0][0] \n",
    "        self.entry = entry        # equal to pivot column in tableau\n",
    "        \n",
    "        # find element in this column on which to pivot\n",
    "        if (self.tableau[:,entry + 1] < 0).all():\n",
    "            raise ValueError('Problem is unbounded. There exists no solution.')\n",
    "        \n",
    "        else:\n",
    "            T_ks = list(np.where(self.tableau[:, entry ] > 0)[0])\n",
    "            #row_last_neg_val = np.where(T_ks == True)[0][0] - 1\n",
    "            #print(row_last_neg_val)\n",
    "            self.T_ks = T_ks\n",
    "            \n",
    "            T_ratios = (self.tableau[T_ks, entry-1] / \n",
    "                        self.tableau[T_ks, entry])\n",
    "            \n",
    "            \n",
    "            self.T_ratios = T_ratios\n",
    "            self.leave = solv.T_ks[np.argmin(solv.T_ratios)] + 1\n",
    "    \n",
    "    def swap(self):\n",
    "        self.tracklist[self.leave], self.tracklist[self.entry] = self.tracklist[self.entry], self.tracklist[self.leave]\n",
    "            \n",
    "    def pivot(self):\n",
    "        pivot_value = self.tableau[self.leave-1, self.entry]\n",
    "        # leave-1 corresponds to the pivot row in the tableau\n",
    "        self.tableau[self.leave - 1,:] = (self.tableau[self.leave - 1,:] /\n",
    "                        self.tableau[self.leave-1, self.entry])\n",
    "        \n",
    "        rows_to_zero_out = [x for x in range(len(self.tableau)) if x != self.leave - 1]\n",
    "        \n",
    "        factors = self.tableau[:,self.entry][rows_to_zero_out]\n",
    "        \n",
    "        self.tableau[[rows_to_zero_out]] -= np.outer(factors,\n",
    "                                                     self.tableau[self.leave-1])\n",
    "        # print(self.tableau)\n",
    "        \n",
    "    def one_step(self):\n",
    "            \n",
    "        self.blands_rule()\n",
    "        self.swap()\n",
    "        self.pivot()\n",
    "        \n",
    "    def solve(self):\n",
    "        self.make_tableau()\n",
    "        first_row_is_not_pos = (self.tableau[0] < 0).any()\n",
    "        while first_row_is_not_pos:\n",
    "            self.one_step()\n",
    "            first_row_is_not_pos = (self.tableau[0] < 0).any()\n",
    "        \n",
    "        objective_value = self.tableau[0,0]\n",
    "        basic_indices = self.tracklist[:self.m]\n",
    "        basics = self.tableau[1:,0]\n",
    "        \n",
    "        nonbasic_indices =  self.tracklist[self.m:]\n",
    "        nonbasics = np.zeros(len(nonbasic_indices))\n",
    "        #non_basics = en()\n",
    "        np.set_printoptions(suppress=True)\n",
    "        return (objective_value, \n",
    "                dict(zip(self.tracklist[:self.m], basics)),\n",
    "                dict(zip(nonbasic_indices, nonbasics)))"
   ]
  },
  {
   "cell_type": "code",
   "execution_count": 653,
   "metadata": {},
   "outputs": [],
   "source": [
    "c = np.array([3., 2])\n",
    "b = np.array([2., 5, 7])\n",
    "A = np.array([[1., -1], [3, 1], [4, 3]])\n",
    "solv = SimplexSolver(c, A, b)"
   ]
  },
  {
   "cell_type": "code",
   "execution_count": 654,
   "metadata": {},
   "outputs": [
    {
     "data": {
      "text/plain": [
       "(5.2000000000000002,\n",
       " {0: 1.6000000000000001, 1: 0.19999999999999982, 2: 0.59999999999999964},\n",
       " {3: 0.0, 4: 0.0})"
      ]
     },
     "execution_count": 654,
     "metadata": {},
     "output_type": "execute_result"
    }
   ],
   "source": [
    "solution = solv.solve()\n",
    "solution"
   ]
  }
 ],
 "metadata": {
  "kernelspec": {
   "display_name": "Python [default]",
   "language": "python",
   "name": "python3"
  },
  "language_info": {
   "codemirror_mode": {
    "name": "ipython",
    "version": 3
   },
   "file_extension": ".py",
   "mimetype": "text/x-python",
   "name": "python",
   "nbconvert_exporter": "python",
   "pygments_lexer": "ipython3",
   "version": "3.5.3"
  }
 },
 "nbformat": 4,
 "nbformat_minor": 2
}
