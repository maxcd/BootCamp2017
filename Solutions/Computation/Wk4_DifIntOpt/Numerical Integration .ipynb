{
 "cells": [
  {
   "cell_type": "markdown",
   "metadata": {},
   "source": [
    "### Problem 1."
   ]
  },
  {
   "cell_type": "code",
   "execution_count": 2,
   "metadata": {
    "collapsed": true
   },
   "outputs": [],
   "source": [
    "import numpy as np"
   ]
  },
  {
   "cell_type": "code",
   "execution_count": 3,
   "metadata": {
    "collapsed": true
   },
   "outputs": [],
   "source": [
    "def num_integrate(func, a, b, N, method='midpoint'):\n",
    "    \n",
    "    x_vals = np.linspace(a, b, num=N)\n",
    "    ii = np.arange(len(x_vals))\n",
    "    \n",
    "    if method == 'tapezoid':\n",
    "        xi_vals = a + (ii*(b - a))/N\n",
    "        g_vals = np.sum(func(xi_vals)) + func(xi_vals[-1])\n",
    "        w = (b - a)/(2*N)\n",
    "        \n",
    "        result_trap = w * (func(xi_vals[0]) + 2 * g_vals)\n",
    "        return result_trap\n",
    "    \n",
    "    elif method == 'Simpsons':\n",
    "\n",
    "            h = (b - a) / N\n",
    "            s = func(a) + func(b)\n",
    "\n",
    "            for i in range(1, N, 2):\n",
    "                s += 4 * func(a + i * h)\n",
    "            for i in range(2, N-1, 2):\n",
    "                s += 2 * func(a + i * h)\n",
    "\n",
    "            return s * h / 3\n",
    "    \n",
    "    elif method == 'midpoint':\n",
    "        xi_vals = a + (((2*ii+1)*(b - a))/(2*N))\n",
    "        g_vals = func(xi_vals)\n",
    "        w = (b - a)/N\n",
    "        \n",
    "        result_mid = w * np.sum(g_vals[:-1])\n",
    "        return result_mid\n"
   ]
  },
  {
   "cell_type": "code",
   "execution_count": 4,
   "metadata": {},
   "outputs": [
    {
     "data": {
      "text/plain": [
       "4373.33333333333"
      ]
     },
     "execution_count": 4,
     "metadata": {},
     "output_type": "execute_result"
    }
   ],
   "source": [
    "g = lambda x: 0.1*x**4 - 1.5*x**3 + 0.53*x**2 + 2*x + 1\n",
    "a = -10\n",
    "b = 10\n",
    "N = 10000\n",
    "\n",
    "import sympy as sy\n",
    "z = sy.symbols('z')\n",
    "sy.integrate(0.1*z**4 - 1.5*z**3 + 0.53*z**2 + 2*z + 1, (z, a, b))"
   ]
  },
  {
   "cell_type": "code",
   "execution_count": 5,
   "metadata": {},
   "outputs": [
    {
     "data": {
      "text/plain": [
       "4374.1851216356135"
      ]
     },
     "execution_count": 5,
     "metadata": {},
     "output_type": "execute_result"
    }
   ],
   "source": [
    "num_integrate(g, a, b, N, method='midpoint')"
   ]
  },
  {
   "cell_type": "code",
   "execution_count": 6,
   "metadata": {},
   "outputs": [
    {
     "data": {
      "text/plain": [
       "4377.9757567908655"
      ]
     },
     "execution_count": 6,
     "metadata": {},
     "output_type": "execute_result"
    }
   ],
   "source": [
    "num_integrate(g, a, b, N, method='tapezoid')"
   ]
  },
  {
   "cell_type": "code",
   "execution_count": 7,
   "metadata": {},
   "outputs": [
    {
     "data": {
      "text/plain": [
       "4373.333333333318"
      ]
     },
     "execution_count": 7,
     "metadata": {},
     "output_type": "execute_result"
    }
   ],
   "source": [
    "num_integrate(g, a, b, N, method='Simpsons')\n",
    "# cearly there is something wrong here"
   ]
  },
  {
   "cell_type": "markdown",
   "metadata": {},
   "source": [
    "### Problem 2."
   ]
  },
  {
   "cell_type": "code",
   "execution_count": 8,
   "metadata": {
    "collapsed": true
   },
   "outputs": [],
   "source": [
    "from scipy.stats import norm\n",
    "import matplotlib.pyplot as plt"
   ]
  },
  {
   "cell_type": "code",
   "execution_count": 9,
   "metadata": {
    "collapsed": true
   },
   "outputs": [],
   "source": [
    "def approx_normal(mu, sigma, N, k):\n",
    "    # preparation\n",
    "    upper = mu-k*sigma\n",
    "    lower = mu + k*sigma\n",
    "    x_vals = np.linspace(upper, lower, N)\n",
    "    step_size = np.diff(x_vals)[0]\n",
    "    \n",
    "    func = lambda x: norm.cdf(x, loc=mu, scale=sigma)\n",
    "    func(x_vals)\n",
    "    \n",
    "    a = x_vals - 0.5 * step_size \n",
    "    b= x_vals + 0.5 *step_size\n",
    "    w = func(b) - func(a)\n",
    "    \n",
    "    return w, x_vals       "
   ]
  },
  {
   "cell_type": "code",
   "execution_count": 10,
   "metadata": {},
   "outputs": [
    {
     "data": {
      "image/png": "[encoded data removed]",
      "text/plain": [
       "<matplotlib.figure.Figure at 0x22825548a90>"
      ]
     },
     "metadata": {},
     "output_type": "display_data"
    },
    {
     "name": "stdout",
     "output_type": "stream",
     "text": [
      "weights: [ 0.00298355  0.01439745  0.04894278  0.11725292  0.19802845  0.23582284\n",
      "  0.19802845  0.11725292  0.04894278  0.01439745  0.00298355] nodes: [-3.  -2.4 -1.8 -1.2 -0.6  0.   0.6  1.2  1.8  2.4  3. ]\n"
     ]
    }
   ],
   "source": [
    "w, z = approx_normal(0.0, 1.0, 11, 3)\n",
    "plt.plot(z, w)\n",
    "plt.show()\n",
    "print('weights:',w,'nodes:', z)"
   ]
  },
  {
   "cell_type": "markdown",
   "metadata": {},
   "source": [
    "### Probem 3.\n",
    "#### approximate log normal dist"
   ]
  },
  {
   "cell_type": "markdown",
   "metadata": {},
   "source": [
    "Do $A$ and $Z$ from the expercise really hav the same expected value and variance?!?!?!"
   ]
  },
  {
   "cell_type": "code",
   "execution_count": 11,
   "metadata": {
    "collapsed": true
   },
   "outputs": [],
   "source": [
    "def approx_lognorm(mu_n, sigma_n, N, k):\n",
    "    \n",
    "    wn, zn = approx_normal(mu_n, sigma_n, N, k)\n",
    "    \n",
    "    return wn, np.exp(zn)"
   ]
  },
  {
   "cell_type": "code",
   "execution_count": 12,
   "metadata": {},
   "outputs": [
    {
     "data": {
      "image/png": "[encoded data removed]",
      "text/plain": [
       "<matplotlib.figure.Figure at 0x22825771e48>"
      ]
     },
     "metadata": {},
     "output_type": "display_data"
    }
   ],
   "source": [
    "w, z = approx_lognorm(0.0, 1.0, 11, 3)\n",
    "plt.plot(z, w)\n",
    "plt.show()"
   ]
  },
  {
   "cell_type": "markdown",
   "metadata": {},
   "source": [
    "### Problem 4.\n",
    "#### compare expected values"
   ]
  },
  {
   "cell_type": "code",
   "execution_count": 13,
   "metadata": {},
   "outputs": [
    {
     "data": {
      "text/plain": [
       "50011.380463843656"
      ]
     },
     "execution_count": 13,
     "metadata": {},
     "output_type": "execute_result"
    }
   ],
   "source": [
    "w, y = approx_lognorm(10.5, 0.8, 57, 4)\n",
    "\n",
    "EY = w @ y\n",
    "EY"
   ]
  },
  {
   "cell_type": "code",
   "execution_count": 14,
   "metadata": {},
   "outputs": [
    {
     "data": {
      "text/plain": [
       "50011.087008521754"
      ]
     },
     "execution_count": 14,
     "metadata": {},
     "output_type": "execute_result"
    }
   ],
   "source": [
    "np.exp(10.5 +(0.8**2)/2)"
   ]
  },
  {
   "cell_type": "markdown",
   "metadata": {
    "collapsed": true
   },
   "source": [
    "### Problem 5."
   ]
  },
  {
   "cell_type": "code",
   "execution_count": null,
   "metadata": {
    "collapsed": true
   },
   "outputs": [],
   "source": []
  },
  {
   "cell_type": "markdown",
   "metadata": {},
   "source": [
    "### Problem 6.\n",
    "#### integration using scipy"
   ]
  },
  {
   "cell_type": "code",
   "execution_count": 15,
   "metadata": {
    "collapsed": true
   },
   "outputs": [],
   "source": [
    "import scipy as sc\n",
    "\n",
    "g = lambda x: 0.1*x**4 - 1.5*x**3 + 0.53*x**2 + 2*x + 1"
   ]
  },
  {
   "cell_type": "code",
   "execution_count": 16,
   "metadata": {},
   "outputs": [
    {
     "data": {
      "text/plain": [
       "(4373.333333333334, 8.109531705284936e-11)"
      ]
     },
     "execution_count": 16,
     "metadata": {},
     "output_type": "execute_result"
    }
   ],
   "source": [
    "sc.integrate.quad(g, -10, 10)"
   ]
  },
  {
   "cell_type": "markdown",
   "metadata": {},
   "source": [
    "### Ptoblem 7.\n",
    "Approximate $\\pi$ using Monte Carlo Integration"
   ]
  },
  {
   "cell_type": "code",
   "execution_count": 17,
   "metadata": {
    "collapsed": true
   },
   "outputs": [],
   "source": [
    "def g(x_var):\n",
    "    x, y = x_var\n",
    "    val = (x**2 + y**2) <= 1\n",
    "    return val.astype(int)"
   ]
  },
  {
   "cell_type": "code",
   "execution_count": 18,
   "metadata": {
    "collapsed": true
   },
   "outputs": [],
   "source": [
    "domain = np.array([[-1, 1], [-1, 1]])\n",
    "N = 100\n",
    "\n",
    "def mc_int(g, domain_x, N):\n",
    "    \n",
    "    V = np.prod(np.diff(domain, axis=1))\n",
    "    num_vars = len(domain_x)\n",
    "    g_vec = np.empty(N)\n",
    "    new_x = np.random.uniform(size=(num_vars, N))\n",
    "    g_vec = g(new_x)\n",
    "    \n",
    "    integral = g_vec.sum() * (V/N)\n",
    "    \n",
    "    return integral    "
   ]
  },
  {
   "cell_type": "code",
   "execution_count": 21,
   "metadata": {},
   "outputs": [
    {
     "data": {
      "text/plain": [
       "3.1403840000000001"
      ]
     },
     "execution_count": 21,
     "metadata": {},
     "output_type": "execute_result"
    }
   ],
   "source": [
    "N = 1000000\n",
    "mc_int(g, domain, N)"
   ]
  },
  {
   "cell_type": "markdown",
   "metadata": {},
   "source": [
    "It is always crrect up to the second digit. I just don't have thee time to let my pc running for ages.. :)"
   ]
  },
  {
   "cell_type": "markdown",
   "metadata": {},
   "source": [
    "### Problem 8."
   ]
  },
  {
   "cell_type": "code",
   "execution_count": 22,
   "metadata": {
    "collapsed": true
   },
   "outputs": [],
   "source": [
    "import math"
   ]
  },
  {
   "cell_type": "code",
   "execution_count": 40,
   "metadata": {
    "collapsed": true
   },
   "outputs": [],
   "source": [
    "def get_primes(n):\n",
    "    def is_prime(n):\n",
    "        if n % 2 == 0 and n > 2: \n",
    "            return False\n",
    "        return all(n % i for i in range(3, int(math.sqrt(n)) + 1, 2))\n",
    "    \n",
    "    num_prime = 0\n",
    "    number = 1\n",
    "    primes = []\n",
    "    while num_prime < n:\n",
    "        \n",
    "        if is_prime(number):\n",
    "            primes.append(number)\n",
    "        \n",
    "        number +=1\n",
    "        num_prime = len(primes)\n",
    "    \n",
    "    return np.asarray(primes)"
   ]
  },
  {
   "cell_type": "code",
   "execution_count": 47,
   "metadata": {
    "collapsed": true
   },
   "outputs": [],
   "source": [
    "def Weyl(n, s):\n",
    "    # get primes\n",
    "    primes = get_primes(s)\n",
    "    foo = np.vectorize(is_prime)\n",
    "    pbools = foo(a)\n",
    "    primes = np.extract(pbools, a)\n",
    "    seq = np.zeros((s, n))\n",
    "    for i in range(1, n+1):\n",
    "        for j in range(1, s+1):\n",
    "            p = primes[j]\n",
    "            x = np.sqrt(i*p)\n",
    "            seq[j-1, i-1] = x - math.floor(x)\n",
    "    \n",
    "    return seq\n",
    "\n",
    "def Haber(n, s):\n",
    "    primes = get_primes(s)\n",
    "    foo = np.vectorize(is_prime)\n",
    "    pbools = foo(a)\n",
    "    primes = np.extract(pbools, a)\n",
    "    seq = np.zeros((s, n))\n",
    "    for i in range(1, n+1):\n",
    "        for j in range(1, s+1):\n",
    "            p = primes[j]\n",
    "            x = ((i * (i + 1 )) / 2) * np.sqrt(p)\n",
    "            seq[j-1, i-1] = x - math.floor(x)\n",
    "    \n",
    "    return seq\n",
    "    \n",
    "def Niederreiter(n, s):\n",
    "    seq = np.zeros((s, n))\n",
    "    for i in range(1, n + 1):\n",
    "        for j in range(1, s + 1):\n",
    "            seq[j - 1, i - 1] = ((i) * 2. ** ((j) / (j + 1.)) -\n",
    "                                 math.floor((i) * 2. **\n",
    "                                 ((j) / (j + 1.))))\n",
    "    return seq\n",
    "\n",
    "def Baker(n, s):\n",
    "    seq = np.zeros((s,n))\n",
    "    for i in range(1, n+1):\n",
    "        for j in range(1, s+1):\n",
    "            seq[j-1, i-1] = ((i+1)*np.exp(j + 1)) - math.floor((i + 1) *\n",
    "                    np.exp(j + 1))\n",
    "    return seq"
   ]
  },
  {
   "cell_type": "markdown",
   "metadata": {},
   "source": [
    "### Problem 9.\n",
    "approximating pi with equidistributed sequences"
   ]
  },
  {
   "cell_type": "code",
   "execution_count": 65,
   "metadata": {
    "collapsed": true
   },
   "outputs": [],
   "source": [
    "domain = np.array([[-1, 1], [-1, 1]])\n",
    "N = 100\n",
    "\n",
    "def mc_int_eqi(g, domain_x, N):\n",
    "    \n",
    "    V = np.prod(np.diff(domain, axis=1))\n",
    "    num_vars = len(domain_x)\n",
    "    g_vec = np.empty(N)\n",
    "    new_x = Haber(N, num_vars)\n",
    "    g_vec = g(new_x)\n",
    "    \n",
    "    integral = g_vec.sum() * (V/N)\n",
    "    \n",
    "    return integral    "
   ]
  },
  {
   "cell_type": "code",
   "execution_count": 70,
   "metadata": {},
   "outputs": [
    {
     "data": {
      "text/plain": [
       "3.1439600000000003"
      ]
     },
     "execution_count": 70,
     "metadata": {},
     "output_type": "execute_result"
    }
   ],
   "source": [
    "N = 100000\n",
    "mc_int_eqi(g, domain, N)"
   ]
  },
  {
   "cell_type": "markdown",
   "metadata": {},
   "source": [
    "I need only 100,000 numbers here instead of a million with the random number generator. And its probaby easy to speed my loop up!"
   ]
  }
 ],
 "metadata": {
  "kernelspec": {
   "display_name": "Python [default]",
   "language": "python",
   "name": "python3"
  },
  "language_info": {
   "codemirror_mode": {
    "name": "ipython",
    "version": 3
   },
   "file_extension": ".py",
   "mimetype": "text/x-python",
   "name": "python",
   "nbconvert_exporter": "python",
   "pygments_lexer": "ipython3",
   "version": "3.5.3"
  }
 },
 "nbformat": 4,
 "nbformat_minor": 2
}
