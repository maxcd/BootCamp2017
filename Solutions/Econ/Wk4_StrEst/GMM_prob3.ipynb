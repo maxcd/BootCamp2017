{
 "cells": [
  {
   "cell_type": "code",
   "execution_count": 1,
   "metadata": {
    "collapsed": true
   },
   "outputs": [],
   "source": [
    "import numpy as np\n",
    "from math import gamma\n",
    "import scipy.optimize as opt\n",
    "import scipy.stats as sts\n",
    "import matplotlib.pyplot as plt\n",
    "from scipy.integrate import quad\n",
    "from scipy.linalg import pinv"
   ]
  },
  {
   "cell_type": "markdown",
   "metadata": {},
   "source": [
    "## Problem 3.\n",
    "## a)"
   ]
  },
  {
   "cell_type": "code",
   "execution_count": 2,
   "metadata": {},
   "outputs": [],
   "source": [
    "incomes = np.loadtxt(r'C:\\Users\\Max\\Documents\\BootCamp2017\\Econ\\Wk4_StrEst\\data\\usincmoms.txt')\n",
    "pct, mps = incomes.T\n",
    "mps_mil = np.copy(mps) / 1000"
   ]
  },
  {
   "cell_type": "code",
   "execution_count": 3,
   "metadata": {},
   "outputs": [],
   "source": [
    "def plot_bars(mps, pct, add_lines=None, labels=None):\n",
    "    xvals = np.copy(mps)\n",
    "    \n",
    "    yvals = np.copy(pct)\n",
    "    yvals[-2] = yvals[-2] / 10\n",
    "    yvals[-1] = yvals[-1] / 20\n",
    "    bin_width = [(x+2.5)-(x-2.5) for x in xvals]\n",
    "    bin_width[-2] = 50.0\n",
    "    bin_width[-1] = 100.0\n",
    "    \n",
    "    plt.bar(xvals, height=yvals, width=bin_width, edgecolor='black')\n",
    "    \n",
    "    if add_lines is None:\n",
    "        plt.bar(xvals, height=yvals, width=bin_width, edgecolor='red', alpha=0.3)\n",
    "        plt.show()\n",
    "    else:\n",
    "        plt.bar(xvals, height=yvals, width=bin_width, edgecolor='red', alpha=0.4)\n",
    "        for i in range(len(add_lines)):\n",
    "            line = add_lines[i]\n",
    "            plt.plot(line[0], line[1], label=labels[i])\n",
    "        plt.legend()\n",
    "        plt.show()"
   ]
  },
  {
   "cell_type": "code",
   "execution_count": 4,
   "metadata": {},
   "outputs": [
    {
     "data": {
      "image/png": "[encoded data removed]",
      "text/plain": [
       "<matplotlib.figure.Figure at 0x2442dff65c0>"
      ]
     },
     "metadata": {},
     "output_type": "display_data"
    }
   ],
   "source": [
    "plot_bars(mps_mil, pct)"
   ]
  },
  {
   "cell_type": "markdown",
   "metadata": {},
   "source": [
    "## b) GMM fitting the log norm distribution"
   ]
  },
  {
   "cell_type": "code",
   "execution_count": 5,
   "metadata": {},
   "outputs": [],
   "source": [
    "def log_norm_cdf(x, mu, sigma):\n",
    "    \n",
    "    cdf_vals = sts.lognorm.cdf(x, s=sigma, scale=mu)\n",
    "    \n",
    "    return cdf_vals\n",
    "\n",
    "def model_moms_ln(x, mu, sigma):\n",
    "    \n",
    "    moms_model = np.zeros(42)\n",
    "    moms_model[1:40] = (log_norm_cdf((x[1:40] + 2.5), mu, sigma) -\n",
    "                         log_norm_cdf((x[1:40] - 2.5), mu, sigma))\n",
    "    moms_model[0] = log_norm_cdf(5, mu, sigma)\n",
    "    \n",
    "    moms_model[40] = (log_norm_cdf(250, mu, sigma) -\n",
    "                      log_norm_cdf(200, mu, sigma))\n",
    "    \n",
    "    moms_model[41] = (log_norm_cdf(np.inf, mu, sigma) -\n",
    "                      log_norm_cdf(250, mu, sigma))\n",
    "    \n",
    "    return moms_model\n",
    "\n",
    "def err_vec_ln(x, moms_data, mu, sigma, simple):\n",
    "    \n",
    "    moms_model = model_moms_ln(x, mu, sigma)\n",
    "    \n",
    "    if simple:\n",
    "        err_vec = moms_model - moms_data\n",
    "    else:\n",
    "        err_vec = 100 * ((moms_model - moms_data) / moms_data)\n",
    "    \n",
    "    return err_vec\n",
    "\n",
    "def crit_ln(params, *args):\n",
    "    mu, sigma = params\n",
    "    x, moms_data, W = args\n",
    "    \n",
    "    err = err_vec_ln(x, moms_data, mu, sigma, simple=True)\n",
    "    crit_val = np.dot(np.dot(err.T, W), err)\n",
    "    return crit_val"
   ]
  },
  {
   "cell_type": "code",
   "execution_count": 6,
   "metadata": {},
   "outputs": [],
   "source": [
    "W_init = np.diag(pct)\n",
    "mu_0 = np.log(np.mean(mps_mil))\n",
    "params_init = np.array([5, 1])\n",
    "a = crit_ln(params_init, mps_mil, pct, W_init)"
   ]
  },
  {
   "cell_type": "code",
   "execution_count": 7,
   "metadata": {},
   "outputs": [
    {
     "name": "stdout",
     "output_type": "stream",
     "text": [
      "Estimation results for alpha: 49.8850749117 and for beta: 0.952289669837\n",
      "Criterion Value: 5.42268758675e-05\n"
     ]
    },
    {
     "data": {
      "text/plain": [
       "      fun: 5.4226875867457987e-05\n",
       " hess_inv: <2x2 LbfgsInvHessProduct with dtype=float64>\n",
       "      jac: array([  8.20205720e-08,  -4.54951493e-06])\n",
       "  message: b'CONVERGENCE: NORM_OF_PROJECTED_GRADIENT_<=_PGTOL'\n",
       "     nfev: 57\n",
       "      nit: 16\n",
       "   status: 0\n",
       "  success: True\n",
       "        x: array([ 49.88507491,   0.95228967])"
      ]
     },
     "execution_count": 7,
     "metadata": {},
     "output_type": "execute_result"
    }
   ],
   "source": [
    "res_ln = opt.minimize(crit_ln, params_init, args=(mps_mil, pct, W_init),\n",
    "                     method='L-BFGS-B', bounds=((1e-10, None), (1e-10, None)))\n",
    "mu_ln, sigma_ln = res_ln.x\n",
    "crit_fun_ln = res_ln.fun\n",
    "print('Estimation results for alpha:', mu_ln, 'and for beta:', sigma_ln)\n",
    "print('Criterion Value:', crit_fun_ln)\n",
    "\n",
    "res_ln"
   ]
  },
  {
   "cell_type": "code",
   "execution_count": 9,
   "metadata": {},
   "outputs": [],
   "source": [
    "ln_fit = model_moms_ln(mps_mil, mu_ln, sigma_ln)\n",
    "ln_fit[-2] = ln_fit[-2] / 10\n",
    "ln_fit[-1] = ln_fit[-1] / 20\n",
    "lines_ln = np.concatenate([mps_mil, ln_fit]).reshape(2, 42)\n",
    "ln_label = ['fitted log norm']"
   ]
  },
  {
   "cell_type": "code",
   "execution_count": 10,
   "metadata": {},
   "outputs": [
    {
     "data": {
      "image/png": "[encoded data removed]",
      "text/plain": [
       "<matplotlib.figure.Figure at 0x24430d73898>"
      ]
     },
     "metadata": {},
     "output_type": "display_data"
    }
   ],
   "source": [
    "plot_bars(mps_mil, pct, add_lines=[lines_ln], labels=ln_label)"
   ]
  },
  {
   "cell_type": "markdown",
   "metadata": {},
   "source": [
    "## c)"
   ]
  },
  {
   "cell_type": "code",
   "execution_count": 12,
   "metadata": {
    "collapsed": true
   },
   "outputs": [],
   "source": [
    "def gamma_pdf_own(xvals, alpha, beta):\n",
    "    \n",
    "    numerator = xvals **(alpha - 1) * np.exp(-(xvals / beta))\n",
    "    #print(alpha)\n",
    "    denominator =   (beta ** alpha)*gamma(alpha) \n",
    "    pdf_vals =  numerator / denominator\n",
    "    \n",
    "    return pdf_vals"
   ]
  },
  {
   "cell_type": "code",
   "execution_count": 13,
   "metadata": {
    "collapsed": true
   },
   "outputs": [],
   "source": [
    "def gamma_cdf(xvals, alpha, beta):\n",
    "    \n",
    "    cdf_vals = sts.gamma.cdf(xvals, a=alpha, scale = beta)\n",
    "    return cdf_vals\n",
    "\n",
    "def model_moms_gam(x, alpha, beta):\n",
    "    \n",
    "    moms_model = np.zeros(42)\n",
    "    moms_model[1:40] = (gamma_cdf((x[1:40] + 2.5), alpha, beta) -\n",
    "                         gamma_cdf((x[1:40] - 2.5), alpha, beta))\n",
    "    moms_model[0] = gamma_cdf(5, alpha, beta)\n",
    "    \n",
    "    moms_model[40] = (gamma_cdf(250, alpha, beta) -\n",
    "                      gamma_cdf(200, alpha, beta))\n",
    "    \n",
    "    moms_model[41] = (gamma_cdf(np.inf, alpha, beta) -\n",
    "                      gamma_cdf(250, alpha, beta))\n",
    "    \n",
    "    return moms_model\n",
    "\n",
    "def err_vec_gam(x, moms_data, alpha, beta, simple):\n",
    "    \n",
    "    moms_model = model_moms_gam(x, alpha, beta)\n",
    "    \n",
    "    if simple:\n",
    "        err_vec = moms_model - moms_data\n",
    "    else:\n",
    "        err_vec = 100 * ((moms_model - moms_data) / moms_data)\n",
    "    \n",
    "    return err_vec\n",
    "\n",
    "def crit_gam(params, *args):\n",
    "    alpha, beta = params\n",
    "    x, moms_data, W = args\n",
    "    \n",
    "    err = err_vec_gam(x, moms_data, alpha, beta, simple=True)\n",
    "    crit_val = np.dot(np.dot(err.T, W), err)\n",
    "    return crit_val"
   ]
  },
  {
   "cell_type": "code",
   "execution_count": 14,
   "metadata": {},
   "outputs": [],
   "source": [
    "alpha_0 = 3\n",
    "beta_0 = 20000\n",
    "gamma_cdf(mps_mil, alpha_0, beta_0/1000)\n",
    "model_moms_gam(mps_mil, alpha_0, beta_0/1000)\n",
    "params_init_gam = np.array([alpha_0, beta_0/1000])"
   ]
  },
  {
   "cell_type": "code",
   "execution_count": 15,
   "metadata": {},
   "outputs": [
    {
     "name": "stdout",
     "output_type": "stream",
     "text": [
      "Estimation results for alpha: 1.50411195985 and for beta: 41181.090293\n",
      "Criterion Value: 1.43637195722e-05\n"
     ]
    },
    {
     "data": {
      "text/plain": [
       "      fun: 1.4363719572233851e-05\n",
       " hess_inv: <2x2 LbfgsInvHessProduct with dtype=float64>\n",
       "      jac: array([ -8.92854550e-07,  -1.67556432e-06])\n",
       "  message: b'CONVERGENCE: NORM_OF_PROJECTED_GRADIENT_<=_PGTOL'\n",
       "     nfev: 48\n",
       "      nit: 14\n",
       "   status: 0\n",
       "  success: True\n",
       "        x: array([  1.50411196,  41.18109029])"
      ]
     },
     "execution_count": 15,
     "metadata": {},
     "output_type": "execute_result"
    }
   ],
   "source": [
    "res_gam = opt.minimize(crit_gam, params_init_gam, args=(mps_mil, pct, W_init), \n",
    "                      method='L-BFGS-B', bounds=((1e-10, None), (1e-10, None)))\n",
    "\n",
    "alpha_gam, beta_gam = res_gam.x\n",
    "crit_fun_gam = res_gam.fun\n",
    "\n",
    "print('Estimation results for alpha:', alpha_gam, 'and for beta:', beta_gam*1000)\n",
    "print('Criterion Value:', crit_fun_gam)\n",
    "\n",
    "res_gam"
   ]
  },
  {
   "cell_type": "code",
   "execution_count": 16,
   "metadata": {},
   "outputs": [],
   "source": [
    "gam_fit = model_moms_gam(mps_mil, alpha_gam, beta_gam)\n",
    "gam_fit[-2] = ln_fit[-2]\n",
    "gam_fit[-1] = ln_fit[-1]\n",
    "lines_gam = np.concatenate([mps_mil, gam_fit]).reshape(2, 42)\n",
    "gam_label = ['fitted gamma']\n",
    "\n",
    "lines_c = [lines_gam, lines_ln]\n",
    "label_c = ['fitted gamma', 'fitted log normal']"
   ]
  },
  {
   "cell_type": "code",
   "execution_count": 17,
   "metadata": {},
   "outputs": [
    {
     "data": {
      "image/png": "[encoded data removed]",
      "text/plain": [
       "<matplotlib.figure.Figure at 0x24430ef4b70>"
      ]
     },
     "metadata": {},
     "output_type": "display_data"
    }
   ],
   "source": [
    "plot_bars(mps_mil, pct, add_lines=lines_c, labels=label_c)"
   ]
  },
  {
   "cell_type": "markdown",
   "metadata": {},
   "source": [
    "It is quite hard to tell which distrubution fits better.However, gama distribution be a little closer to the empirical momentsmost of the time whereas the log-normal distribution puts too much probability mass on the modal value. The criterion function for the gamma distribution is only little smaller."
   ]
  },
  {
   "cell_type": "markdown",
   "metadata": {},
   "source": [
    "## e)\n",
    "two step estimator for the weighting matrix W. (This implies unlike the earlier problems to start with W_init = identity matric´x, right?)"
   ]
  },
  {
   "cell_type": "code",
   "execution_count": 18,
   "metadata": {},
   "outputs": [
    {
     "name": "stdout",
     "output_type": "stream",
     "text": [
      "Estimation results for alpha: 1.37243071957 and for beta: 48327.5841634\n",
      "Criterion Value: 0.000311781168919\n"
     ]
    }
   ],
   "source": [
    "alpha2_0 = 3\n",
    "beta2_0 = 20000\n",
    "W2_init = np.identity(42)\n",
    "gamma_cdf(mps_mil, alpha2_0, beta2_0/1000)\n",
    "model_moms_gam(mps_mil, alpha2_0, beta2_0/1000)\n",
    "params_init_gam = np.array([alpha2_0, beta2_0/1000])\n",
    "\n",
    "res_gam12 = opt.minimize(crit_gam, params_init_gam, args=(mps_mil, pct, W2_init), \n",
    "                      method='L-BFGS-B', bounds=((1e-10, None), (1e-10, None)))\n",
    "\n",
    "alpha_gam12, beta_gam12 = res_gam12.x\n",
    "crit_fun12 = res_gam12.fun\n",
    "\n",
    "print('Estimation results for alpha:', alpha_gam12, 'and for beta:', beta_gam12*1000)\n",
    "print('Criterion Value:', crit_fun12)"
   ]
  },
  {
   "cell_type": "markdown",
   "metadata": {},
   "source": [
    "The parameters change a little in the first stage and the criterion is a little larger compared to using the population size weights like inthe earlier problems."
   ]
  },
  {
   "cell_type": "code",
   "execution_count": 39,
   "metadata": {},
   "outputs": [],
   "source": [
    "err_gam12_fin = err_vec_gam(mps_mil, pct, alpha_gam12, beta_gam12, simple=True)\n",
    "err_gam12_fin = err_gam12_fin.reshape(1, 42)\n",
    "VCV_gam2 = np.dot(err_gam12_fin.T, err_gam12_fin) / len(pct)\n",
    "W_step2 = pinv(VCV_gam2)"
   ]
  },
  {
   "cell_type": "code",
   "execution_count": 42,
   "metadata": {},
   "outputs": [
    {
     "name": "stdout",
     "output_type": "stream",
     "text": [
      "Estimation results for alpha: 580.986561376 and for beta: 0.0212177567932\n",
      "Criterion Value: -8.89065965075e+19\n"
     ]
    },
    {
     "data": {
      "text/plain": [
       "      fun: -8.8906596507477426e+19\n",
       " hess_inv: <2x2 LbfgsInvHessProduct with dtype=float64>\n",
       "      jac: array([ -1.63840000e+12,  -3.64380160e+15])\n",
       "  message: b'CONVERGENCE: REL_REDUCTION_OF_F_<=_FACTR*EPSMCH'\n",
       "     nfev: 378\n",
       "      nit: 74\n",
       "   status: 0\n",
       "  success: True\n",
       "        x: array([  5.80986561e+02,   2.12177568e-02])"
      ]
     },
     "execution_count": 42,
     "metadata": {},
     "output_type": "execute_result"
    }
   ],
   "source": [
    "res_gam22 = opt.minimize(crit_gam, params_init_gam, args=(mps_mil, pct, W_step2), \n",
    "                      method='L-BFGS-B', bounds=((1e-10, None), (1e-10, None)))\n",
    "\n",
    "alpha_gam22, beta_gam22 = res_gam22.x\n",
    "crit_fun22 = res_gam22.fun\n",
    "print('Estimation results for alpha:', alpha_gam22, 'and for beta:',\n",
    "      beta_gam22*1000)\n",
    "print('Criterion Value:', crit_fun22)\n",
    "\n",
    "res_gam22"
   ]
  },
  {
   "cell_type": "markdown",
   "metadata": {},
   "source": [
    "These look really wierd..."
   ]
  }
 ],
 "metadata": {
  "kernelspec": {
   "display_name": "Python [default]",
   "language": "python",
   "name": "python3"
  },
  "language_info": {
   "codemirror_mode": {
    "name": "ipython",
    "version": 3
   },
   "file_extension": ".py",
   "mimetype": "text/x-python",
   "name": "python",
   "nbconvert_exporter": "python",
   "pygments_lexer": "ipython3",
   "version": "3.5.3"
  }
 },
 "nbformat": 4,
 "nbformat_minor": 2
}
