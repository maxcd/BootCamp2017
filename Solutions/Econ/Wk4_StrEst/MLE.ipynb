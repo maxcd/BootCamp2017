{
 "cells": [
  {
   "cell_type": "markdown",
   "metadata": {},
   "source": [
    "### Problem 1.\n",
    "fit the Gamma disribution over the health data."
   ]
  },
  {
   "cell_type": "code",
   "execution_count": 1,
   "metadata": {
    "collapsed": true
   },
   "outputs": [],
   "source": [
    "import numpy as np\n",
    "from math import gamma\n",
    "import scipy.optimize as opt\n",
    "import scipy.stats as sts\n",
    "import matplotlib.pyplot as plt"
   ]
  },
  {
   "cell_type": "markdown",
   "metadata": {},
   "source": [
    "## a)"
   ]
  },
  {
   "cell_type": "code",
   "execution_count": 2,
   "metadata": {},
   "outputs": [
    {
     "name": "stdout",
     "output_type": "stream",
     "text": [
      "mean: 720.277975327  med: 172.21 max: 227967.25 min: 0.01 std: 3972.66375639\n"
     ]
    }
   ],
   "source": [
    "data = np.loadtxt(r'C:\\Users\\Max\\Documents\\BootCamp2017\\Econ\\Wk4_StrEst\\data\\clms.txt')\n",
    "data.shape\n",
    "a, b, c, d = data.mean(), np.median(data), data.max(), data.min()\n",
    "e = np.std(data)\n",
    "\n",
    "print('mean:',a,' med:',b, 'max:',c, 'min:',d, 'std:',e)"
   ]
  },
  {
   "cell_type": "code",
   "execution_count": 3,
   "metadata": {},
   "outputs": [
    {
     "data": {
      "image/png": "[encoded data removed]",
      "text/plain": [
       "<matplotlib.figure.Figure at 0x27a9e7d8240>"
      ]
     },
     "metadata": {},
     "output_type": "display_data"
    }
   ],
   "source": [
    "subsample_size = np.array([data <= 800]).sum() \n",
    "weights = 1 / len(data)\n",
    "weights_sub = np.repeat(weights, subsample_size)\n",
    "weights_all = np.repeat(weights, len(data))\n",
    "\n",
    "fig, ax = plt.subplots(1,2, figsize=(12,4))\n",
    "ax[0].hist(data, bins=1000, weights=weights_all, edgecolor='k')\n",
    "ax[1].hist(data[data <= 800], bins=100, weights=weights_sub, edgecolor='k')\n",
    "plt.show()"
   ]
  },
  {
   "cell_type": "markdown",
   "metadata": {},
   "source": [
    "The first histogramm tells that we have some outliers with really high health claims. It virtually tells nothing about the domain where the most part of the probability is. "
   ]
  },
  {
   "cell_type": "markdown",
   "metadata": {},
   "source": [
    "## b)"
   ]
  },
  {
   "cell_type": "code",
   "execution_count": 4,
   "metadata": {
    "collapsed": true
   },
   "outputs": [],
   "source": [
    "def gamma_pdf(xvals, alpha, beta):\n",
    "    \n",
    "    numerator = xvals **(alpha - 1) * np.exp(-(xvals / beta))\n",
    "    #print(alpha)\n",
    "    denominator =   (beta ** alpha)*gamma(alpha) \n",
    "    pdf_vals =  numerator / denominator\n",
    "    \n",
    "    return pdf_vals\n",
    "\n",
    "def log_lik_gamma(xvals, alpha, beta):\n",
    "    pdf_vals = gamma_pdf(xvals, alpha, beta)\n",
    "    ln_pdf_vals = np.log(pdf_vals)\n",
    "    log_lik_val = ln_pdf_vals.sum()\n",
    "    \n",
    "    return log_lik_val\n",
    "\n",
    "def criterion_fun(params, *args):\n",
    "    xvals = args\n",
    "    alpha, beta = params\n",
    "    ll = log_lik_gamma(xvals, alpha, beta)\n",
    "    crit = -ll\n",
    "    \n",
    "    return crit"
   ]
  },
  {
   "cell_type": "code",
   "execution_count": 5,
   "metadata": {
    "collapsed": true
   },
   "outputs": [],
   "source": [
    "beta_0 = np.var(data) / np.mean(data)\n",
    "alpha_0 = np.mean(data) / beta_0  \n",
    "params_init = np.array([alpha_0, beta_0])\n",
    "gamma_args = data\n",
    "gam_results = opt.minimize(criterion_fun, params_init,\n",
    "                       args=(gamma_args), \n",
    "                       method='L-BFGS-B',\n",
    "                      bounds=((1e-10, None), (1e-10, None)))\n",
    "\n",
    "gam_loglik = -gam_results.fun \n",
    "alpha_gam, beta_gam = gam_results.x"
   ]
  },
  {
   "cell_type": "code",
   "execution_count": 6,
   "metadata": {},
   "outputs": [
    {
     "name": "stdout",
     "output_type": "stream",
     "text": [
      "log_lik; -82076.4516057 alpha: 0.221755316958 beta: 21911.0646993\n"
     ]
    }
   ],
   "source": [
    "print('log_lik;',-gam_results.fun,'alpha:', gam_results.x[0],'beta:',\n",
    "      gam_results.x[1])"
   ]
  },
  {
   "cell_type": "code",
   "execution_count": 7,
   "metadata": {},
   "outputs": [
    {
     "name": "stderr",
     "output_type": "stream",
     "text": [
      "C:\\Users\\Max\\Anaconda3\\lib\\site-packages\\ipykernel\\__main__.py:3: RuntimeWarning: divide by zero encountered in power\n",
      "  app.launch_new_instance()\n"
     ]
    },
    {
     "data": {
      "image/png": "[encoded data removed]",
      "text/plain": [
       "<matplotlib.figure.Figure at 0x27a9ffedc50>"
      ]
     },
     "metadata": {},
     "output_type": "display_data"
    }
   ],
   "source": [
    "x_vals = np.linspace(0, 800, 100)\n",
    "weights = np.repeat(1 / subsample_size, subsample_size)\n",
    "\n",
    "\n",
    "gamm = gamma_pdf(x_vals, gam_results.x[0], gam_results.x[1])\n",
    "\n",
    "fig, ax = plt.subplots(figsize=(8, 8))\n",
    "plt.plot(x_vals, gamm, 'r-', lw=2,)\n",
    "ax.hist(data[data < 800], bins=100, normed=True, alpha=0.5)\n",
    "plt.show()"
   ]
  },
  {
   "cell_type": "markdown",
   "metadata": {},
   "source": [
    "## c) \n",
    "#### fitting the generalized gamma distribution"
   ]
  },
  {
   "cell_type": "code",
   "execution_count": 8,
   "metadata": {
    "collapsed": true
   },
   "outputs": [],
   "source": [
    "def gg_pdf(xvals, alpha, beta, m):\n",
    "    \n",
    "    numerator = m* xvals **(alpha - 1) * np.exp(-(xvals / beta)**m)\n",
    "    #print(alpha)\n",
    "    denominator =   beta ** alpha*gamma(alpha/m) \n",
    "    pdf_vals =  numerator / denominator\n",
    "    \n",
    "    return pdf_vals\n",
    "\n",
    "\n",
    "def log_lik_gg(xvals, alpha, beta, m):\n",
    "    pdf_vals = gg_pdf(xvals, alpha, beta, m)\n",
    "    ln_pdf_vals = np.log(pdf_vals)\n",
    "    log_lik_val = ln_pdf_vals.sum()\n",
    "    \n",
    "    return log_lik_val\n",
    "\n",
    "def gg_crit(params, *args):\n",
    "    xvals = args\n",
    "    alpha, beta, m = params\n",
    "    ll = log_lik_gg(xvals, alpha, beta, m)\n",
    "    crit = -ll\n",
    "    \n",
    "    return crit"
   ]
  },
  {
   "cell_type": "code",
   "execution_count": 9,
   "metadata": {
    "collapsed": true
   },
   "outputs": [],
   "source": [
    "beta_0 = gam_results.x[1]\n",
    "alpha_0 = gam_results.x[0]\n",
    "m_0 = 1.0\n",
    "gg_params_init = np.array([alpha_0, beta_0, m_0])\n",
    "gamma_args = [data]\n",
    "gg_results = opt.minimize(gg_crit, gg_params_init,\n",
    "                       args=(gamma_args), \n",
    "                       method='L-BFGS-B',\n",
    "                      bounds=((1e-10, None), (1e-10, None),\n",
    "                              (1e-10, None)))\n",
    "gg_loglik = -gg_results.fun"
   ]
  },
  {
   "cell_type": "code",
   "execution_count": 10,
   "metadata": {},
   "outputs": [
    {
     "data": {
      "text/plain": [
       "      fun: 82076.446790240763\n",
       " hess_inv: <3x3 LbfgsInvHessProduct with dtype=float64>\n",
       "      jac: array([-3.64525476,  0.09167707, -1.04337232])\n",
       "  message: b'CONVERGENCE: REL_REDUCTION_OF_F_<=_FACTR*EPSMCH'\n",
       "     nfev: 24\n",
       "      nit: 2\n",
       "   status: 0\n",
       "  success: True\n",
       "        x: array([  2.21737657e-01,   2.19110644e+04,   9.97091641e-01])"
      ]
     },
     "execution_count": 10,
     "metadata": {},
     "output_type": "execute_result"
    }
   ],
   "source": [
    "gg_results"
   ]
  },
  {
   "cell_type": "code",
   "execution_count": 11,
   "metadata": {},
   "outputs": [
    {
     "name": "stdout",
     "output_type": "stream",
     "text": [
      "log_lik; -82076.4467902 alpha: 0.221737657225 beta: 21911.0644276 m: 0.997091640767\n"
     ]
    }
   ],
   "source": [
    "print('log_lik;',-gg_results.fun,'alpha:', gg_results.x[0],'beta:',\n",
    "      gg_results.x[1], 'm:',gg_results.x[2] )"
   ]
  },
  {
   "cell_type": "markdown",
   "metadata": {},
   "source": [
    " As $m$ is close to one and the other parameters barley changed, the GG distrbution does not seem to lead to a substatial increase in the fit. Also the Loglikeliood is exactly th same."
   ]
  },
  {
   "cell_type": "code",
   "execution_count": 12,
   "metadata": {},
   "outputs": [
    {
     "name": "stderr",
     "output_type": "stream",
     "text": [
      "C:\\Users\\Max\\Anaconda3\\lib\\site-packages\\ipykernel\\__main__.py:3: RuntimeWarning: divide by zero encountered in power\n",
      "  app.launch_new_instance()\n"
     ]
    },
    {
     "data": {
      "image/png": "[encoded data removed]",
      "text/plain": [
       "<matplotlib.figure.Figure at 0x27aa0afa710>"
      ]
     },
     "metadata": {},
     "output_type": "display_data"
    }
   ],
   "source": [
    "x_vals = np.linspace(0, 800, 100)\n",
    "weights = np.repeat(1 / subsample_size, subsample_size)\n",
    "\n",
    "\n",
    "gg = gg_pdf(x_vals, gg_results.x[0], gg_results.x[1], gg_results.x[2])\n",
    "\n",
    "fig, ax = plt.subplots(figsize=(8, 8))\n",
    "plt.plot(x_vals, gamm, 'r-', lw=2,)\n",
    "ax.hist(data[data < 800], bins=100, normed=True, alpha=0.5)\n",
    "plt.show()"
   ]
  },
  {
   "cell_type": "markdown",
   "metadata": {},
   "source": [
    "## d) \n",
    "#### Fitting the generalized beta 2 distribution"
   ]
  },
  {
   "cell_type": "code",
   "execution_count": 13,
   "metadata": {
    "collapsed": true
   },
   "outputs": [],
   "source": [
    "from scipy.special import beta\n"
   ]
  },
  {
   "cell_type": "code",
   "execution_count": 14,
   "metadata": {
    "collapsed": true
   },
   "outputs": [],
   "source": [
    "def gb2_pdf(xvals, a, b, p, q):\n",
    "    \n",
    "    numerator = a * xvals ** (a*p - 1)\n",
    "    denominator = (b ** (a * p) * beta(p, q) * \n",
    "                   (1 + (xvals / b) ** a) ** (p + q))\n",
    "    \n",
    "    pdf_vals =  numerator / denominator\n",
    "       \n",
    "    return pdf_vals\n",
    "\n",
    "def log_lik_gb2(xvals, a, b, p, q):\n",
    "    pdf_vals = gb2_pdf(xvals, a, b, p, q )\n",
    "    ln_pdf_vals = np.log(pdf_vals)\n",
    "    log_lik_val = ln_pdf_vals.sum()\n",
    "    \n",
    "    return log_lik_val\n",
    "\n",
    "def gb2_crit(params, *args):\n",
    "    xvals = args\n",
    "    a, b, p, q = params\n",
    "    ll = log_lik_gb2(xvals, a, b, p, q)\n",
    "    crit = -ll\n",
    "    return crit"
   ]
  },
  {
   "cell_type": "code",
   "execution_count": 15,
   "metadata": {},
   "outputs": [
    {
     "name": "stdout",
     "output_type": "stream",
     "text": [
      "loglik: -76467.8091697 a: 0.701044571662 b: 219110644.276 p: 0.991640447887 q: 10000.0001247\n"
     ]
    }
   ],
   "source": [
    "q_0 = 10000\n",
    "a_0 = gg_results.x[2]\n",
    "p_0 = gg_results.x[0] / gg_results.x[2]\n",
    "b_0 = q_0 **(1/m_0)*gg_results.x[1]\n",
    "\n",
    "gb2_params_init = np.array([a_0, b_0, p_0, q_0])\n",
    "gb2_args = data\n",
    "gb2_results = opt.minimize(gb2_crit, gb2_params_init,\n",
    "                       args=gb2_args, \n",
    "                       method='L-BFGS-B',\n",
    "                      bounds=((1e-10, None), (1e-10, None),\n",
    "                              (1e-10, None), (1e-10, None)))\n",
    "\n",
    "gb2_loglik = -gb2_results.fun\n",
    "a, b, p, q, = gb2_results.x\n",
    "print('loglik:', gb2_loglik, 'a:', a, 'b:', b, 'p:', p, 'q:', q)"
   ]
  },
  {
   "cell_type": "code",
   "execution_count": 16,
   "metadata": {},
   "outputs": [
    {
     "name": "stderr",
     "output_type": "stream",
     "text": [
      "C:\\Users\\Max\\Anaconda3\\lib\\site-packages\\ipykernel\\__main__.py:3: RuntimeWarning: divide by zero encountered in power\n",
      "  app.launch_new_instance()\n"
     ]
    },
    {
     "data": {
      "image/png": "[encoded data removed]",
      "text/plain": [
       "<matplotlib.figure.Figure at 0x27aa0002b38>"
      ]
     },
     "metadata": {},
     "output_type": "display_data"
    }
   ],
   "source": [
    "x_vals = np.linspace(0, 800, 100)\n",
    "weights = np.repeat(1 / subsample_size, subsample_size)\n",
    "\n",
    "\n",
    "gb2 = gb2_pdf(x_vals, gb2_results.x[0], gb2_results.x[1], gb2_results.x[2], gb2_results.x[3])\n",
    "\n",
    "fig, ax = plt.subplots(figsize=(8, 8))\n",
    "plt.plot(x_vals, gb2, 'r-', lw=2,)\n",
    "ax.hist(data[data < 800], bins=100, normed=True, alpha=0.5)\n",
    "plt.show()"
   ]
  },
  {
   "cell_type": "markdown",
   "metadata": {},
   "source": [
    "## e)\n",
    "Testing the models against each other by likelihood ration tests."
   ]
  },
  {
   "cell_type": "code",
   "execution_count": 17,
   "metadata": {
    "collapsed": true
   },
   "outputs": [],
   "source": [
    "def lr_test(llm, llh, df):\n",
    "    LR_val = 2 * (llm - llh)\n",
    "    p_val = 1.0 - sts.chi2.cdf(LR_val, df)\n",
    "    return p_val"
   ]
  },
  {
   "cell_type": "code",
   "execution_count": 18,
   "metadata": {},
   "outputs": [
    {
     "data": {
      "text/plain": [
       "0.0"
      ]
     },
     "execution_count": 18,
     "metadata": {},
     "output_type": "execute_result"
    }
   ],
   "source": [
    "lr_test(gb2_loglik, gg_loglik, 2)"
   ]
  },
  {
   "cell_type": "markdown",
   "metadata": {},
   "source": [
    "Strongly reject the GG model compared to the GB2 model."
   ]
  },
  {
   "cell_type": "code",
   "execution_count": 19,
   "metadata": {},
   "outputs": [
    {
     "data": {
      "text/plain": [
       "0.0"
      ]
     },
     "execution_count": 19,
     "metadata": {},
     "output_type": "execute_result"
    }
   ],
   "source": [
    "lr_test(gb2_loglik, gam_loglik, 2)"
   ]
  },
  {
   "cell_type": "markdown",
   "metadata": {},
   "source": [
    "As well as the Gamma-distribution model compared to the GB2 model."
   ]
  },
  {
   "cell_type": "code",
   "execution_count": 20,
   "metadata": {},
   "outputs": [
    {
     "data": {
      "text/plain": [
       "0.92182360786684181"
      ]
     },
     "execution_count": 20,
     "metadata": {},
     "output_type": "execute_result"
    }
   ],
   "source": [
    "lr_test(gg_loglik, gam_loglik, 1)"
   ]
  },
  {
   "cell_type": "markdown",
   "metadata": {},
   "source": [
    "When testing the first two models against each other, we cannot reject the hytpothesis that $m$ from the generalized gamma dist. is equal to one ( which corresponds to the gamma distribution)."
   ]
  },
  {
   "cell_type": "markdown",
   "metadata": {},
   "source": [
    "## f)\n",
    "How likely am I to have a monthly health care claim of more than $1,000?"
   ]
  },
  {
   "cell_type": "code",
   "execution_count": 21,
   "metadata": {},
   "outputs": [
    {
     "name": "stdout",
     "output_type": "stream",
     "text": [
      "The estimated probability from the GB2-dist is 0.163 .\n"
     ]
    }
   ],
   "source": [
    "# using the fitted GB2 distribution\n",
    "from scipy.integrate import quad\n",
    "gb2_1000, _ = quad(gb2_pdf, 0, 1000, args=(a, b, p, q))\n",
    "gb2_1000 = 1 - gb2_1000\n",
    "print('The estimated probability from the GB2-dist is', np.around(gb2_1000,3),'.')"
   ]
  },
  {
   "cell_type": "code",
   "execution_count": 22,
   "metadata": {},
   "outputs": [
    {
     "name": "stdout",
     "output_type": "stream",
     "text": [
      "The estimated probability from the Gamma-dist is 0.452 .\n"
     ]
    }
   ],
   "source": [
    "gam_1000, _ = quad(gamma_pdf, 0, 1000, args=(alpha_gam, beta_gam))\n",
    "gam_1000 = 1 - gam_1000\n",
    "print('The estimated probability from the Gamma-dist is', np.around(gam_1000,3),'.')"
   ]
  }
 ],
 "metadata": {
  "kernelspec": {
   "display_name": "Python [default]",
   "language": "python",
   "name": "python3"
  },
  "language_info": {
   "codemirror_mode": {
    "name": "ipython",
    "version": 3
   },
   "file_extension": ".py",
   "mimetype": "text/x-python",
   "name": "python",
   "nbconvert_exporter": "python",
   "pygments_lexer": "ipython3",
   "version": "3.5.3"
  }
 },
 "nbformat": 4,
 "nbformat_minor": 2
}
