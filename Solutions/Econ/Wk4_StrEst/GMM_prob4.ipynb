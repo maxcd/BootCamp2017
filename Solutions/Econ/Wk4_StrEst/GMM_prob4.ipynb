{
 "cells": [
  {
   "cell_type": "code",
   "execution_count": 211,
   "metadata": {
    "collapsed": true
   },
   "outputs": [],
   "source": [
    "import numpy as np\n",
    "from math import gamma\n",
    "import scipy.optimize as opt\n",
    "import scipy.stats as sts\n",
    "import matplotlib.pyplot as plt\n",
    "from scipy.integrate import quad"
   ]
  },
  {
   "cell_type": "markdown",
   "metadata": {},
   "source": [
    "## Problem 4."
   ]
  },
  {
   "cell_type": "code",
   "execution_count": 275,
   "metadata": {
    "collapsed": true
   },
   "outputs": [],
   "source": [
    "c, k, w, r = np.loadtxt(r'C:\\Users\\Max\\Documents\\BootCamp2017\\Econ\\Wk4_StrEst\\data\\MacroSeries.txt', delimiter=',').T\n",
    "lc = np.log(c)\n",
    "lk = np.log(k)\n",
    "lw = np.log(w)\n",
    "lr = np.log(r)"
   ]
  },
  {
   "cell_type": "code",
   "execution_count": 17,
   "metadata": {
    "collapsed": true
   },
   "outputs": [],
   "source": [
    "def get_z(alpha, lr, lk):\n",
    "#     lr = np.log(r)\n",
    "#     lk = np.log(k)\n",
    "    zi = lr - alpha - (alpha - 1) * lk\n",
    "    \n",
    "    return zi\n",
    "\n",
    "def get_moms(params, c, k, w, r):\n",
    "    alpha, beta, rho, mu = params\n",
    "    \n",
    "    zi = get_z(alpha, r, k)\n",
    "    \n",
    "    mom_1 = np.mean(zi[1:] - rho * zi[:-1] - (1 - rho) * mu)\n",
    "    mom_2 = np.mean((zi[1:] - rho * zi[:-1] - (1 - rho) * mu) * zi[1:])\n",
    "    \n",
    "    \n",
    "    mom_3 = np.mean(beta * alpha * np.exp(zi[1:]) * k[1:] ** (alpha - 1) *\n",
    "                     (c[:-1] / c[1:])-1)\n",
    "    \n",
    "    mom_4 = np.mean((beta * alpha * np.exp(zi[1:]) * k[1:] ** (alpha - 1) *\n",
    "                     (c[:-1] / c[1:])-1) * w[:-1])\n",
    "    \n",
    "#     mom_3 = np.mean(np.log(beta) + alpha + zi[1:] + (alpha - 1) * k[1:] +\n",
    "#                    c[:-1] - c[1:])\n",
    "#     mom_4 = np.mean((np.log(beta) + alpha  + zi[1:] + (alpha - 1) * k[1:] +\n",
    "#                    c[:-1] - c[1:]) * w[:-1])\n",
    "    return np.array([mom_1, mom_2, mom_3, mom_4])\n",
    "\n",
    "def criterion(params, *args):\n",
    "    alpha, beta, rho, mu = params\n",
    "    c, k, w, r, W = args\n",
    "    \n",
    "    mom_args = c, k, w, r\n",
    "    err_vec = get_moms(params, c, k, w, r)\n",
    "    \n",
    "    crit_val = np.dot(np.dot(err_vec.T, W), err_vec)\n",
    "    \n",
    "    return crit_val\n",
    "    "
   ]
  },
  {
   "cell_type": "code",
   "execution_count": 18,
   "metadata": {
    "collapsed": true
   },
   "outputs": [],
   "source": [
    "alpha_0 = 0.4\n",
    "beta_0 = 0.9\n",
    "rho_0 = 0.8\n",
    "mu_0 = 3.0\n",
    "params_init = np.array([alpha_0, beta_0, rho_0, mu_0])\n",
    "W = np.identity(4)\n",
    "data_log = (lc, lk, lw, lr, W)"
   ]
  },
  {
   "cell_type": "code",
   "execution_count": 19,
   "metadata": {},
   "outputs": [
    {
     "name": "stderr",
     "output_type": "stream",
     "text": [
      "C:\\Users\\Max\\Anaconda3\\lib\\site-packages\\ipykernel\\__main__.py:17: RuntimeWarning: overflow encountered in exp\n",
      "C:\\Users\\Max\\Anaconda3\\lib\\site-packages\\ipykernel\\__main__.py:20: RuntimeWarning: overflow encountered in exp\n"
     ]
    },
    {
     "data": {
      "text/plain": [
       "nan"
      ]
     },
     "execution_count": 19,
     "metadata": {},
     "output_type": "execute_result"
    }
   ],
   "source": [
    "get_z(alpha_0, r, k)\n",
    "get_moms(params_init, c, k, w, r)\n",
    "criterion(params_init, c, k, w, r, W)"
   ]
  },
  {
   "cell_type": "code",
   "execution_count": 20,
   "metadata": {},
   "outputs": [
    {
     "data": {
      "text/plain": [
       "(4,)"
      ]
     },
     "execution_count": 20,
     "metadata": {},
     "output_type": "execute_result"
    }
   ],
   "source": [
    "params_init.shape"
   ]
  },
  {
   "cell_type": "code",
   "execution_count": 21,
   "metadata": {},
   "outputs": [
    {
     "data": {
      "text/plain": [
       "      fun: 4.911741455783979e-06\n",
       " hess_inv: <4x4 LbfgsInvHessProduct with dtype=float64>\n",
       "      jac: array([  3.63039532e-03,  -1.39231679e-03,  -5.47066356e-04,\n",
       "         2.14705911e-09])\n",
       "  message: b'CONVERGENCE: REL_REDUCTION_OF_F_<=_FACTR*EPSMCH'\n",
       "     nfev: 170\n",
       "      nit: 28\n",
       "   status: 0\n",
       "  success: True\n",
       "        x: array([  0.78458127,   0.16536035,   0.99989631,  32.07124817])"
      ]
     },
     "execution_count": 21,
     "metadata": {},
     "output_type": "execute_result"
    }
   ],
   "source": [
    "res = opt.minimize(criterion, params_init, args=data_log,\n",
    "                   method='L-BFGS-B',\n",
    "                   bounds=((1e-10, 0.999999), (1e-10, 0.99999999), \n",
    "                          (-0.999999, 0.99999), (1e-10, None)))\n",
    "res"
   ]
  },
  {
   "cell_type": "code",
   "execution_count": 22,
   "metadata": {},
   "outputs": [
    {
     "name": "stdout",
     "output_type": "stream",
     "text": [
      "Estimation results \n",
      "\n",
      "alpha:\t\t\t 0.784581267613 \n",
      "beta:\t\t\t 0.165360348825 \n",
      "rho:\t\t\t 0.999896310793 \n",
      "mu :\t\t\t 32.0712481696 \n",
      "criterion :\t\t 4.91174145578e-06\n",
      "\n"
     ]
    }
   ],
   "source": [
    "alpha, beta, rho, mu = res.x\n",
    "crit = res.fun\n",
    "\n",
    "print('Estimation results',\n",
    "      '\\n\\nalpha:\\t\\t\\t', alpha,\n",
    "      '\\nbeta:\\t\\t\\t', beta,\n",
    "      '\\nrho:\\t\\t\\t', rho,\n",
    "      '\\nmu :\\t\\t\\t', mu,\n",
    "     '\\ncriterion :\\t\\t', crit)\n",
    "print()"
   ]
  }
 ],
 "metadata": {
  "kernelspec": {
   "display_name": "Python [default]",
   "language": "python",
   "name": "python3"
  },
  "language_info": {
   "codemirror_mode": {
    "name": "ipython",
    "version": 3
   },
   "file_extension": ".py",
   "mimetype": "text/x-python",
   "name": "python",
   "nbconvert_exporter": "python",
   "pygments_lexer": "ipython3",
   "version": "3.5.3"
  }
 },
 "nbformat": 4,
 "nbformat_minor": 2
}
