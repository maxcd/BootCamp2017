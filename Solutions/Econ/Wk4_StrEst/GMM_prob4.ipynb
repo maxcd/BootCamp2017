{
 "cells": [
  {
   "cell_type": "code",
   "execution_count": 1,
   "metadata": {
    "collapsed": true
   },
   "outputs": [],
   "source": [
    "import numpy as np\n",
    "import scipy.optimize as opt\n",
    "import scipy.stats as sts\n",
    "import matplotlib.pyplot as plt\n",
    "from scipy.integrate import quad"
   ]
  },
  {
   "cell_type": "markdown",
   "metadata": {},
   "source": [
    "## Problem 4."
   ]
  },
  {
   "cell_type": "code",
   "execution_count": 2,
   "metadata": {
    "collapsed": true
   },
   "outputs": [],
   "source": [
    "c, k, w, r = np.loadtxt(r'C:\\Users\\Max\\Documents\\BootCamp2017\\Econ\\Wk4_StrEst\\data\\MacroSeries.txt', delimiter=',').T"
   ]
  },
  {
   "cell_type": "code",
   "execution_count": 69,
   "metadata": {
    "collapsed": true
   },
   "outputs": [],
   "source": [
    "def get_z(alpha, r, k):\n",
    "\n",
    "    zi = np.log(r) - np.log(alpha) - (alpha - 1) * np.log(k)\n",
    "    \n",
    "    return zi\n",
    "\n",
    "def get_moms(params, c, k, w, r):\n",
    "    alpha, beta, rho, mu = params\n",
    "    \n",
    "    zi = get_z(alpha, r, k)\n",
    "    z_t = zi[:-1]\n",
    "    z_t1 = zi[1:] \n",
    "    \n",
    "    mom_1 = np.mean(z_t1 - rho * z_t - (1 - rho) * mu)\n",
    "    mom_2 = np.mean((z_t1 - rho * z_t - (1 - rho) * mu) * z_t)\n",
    "    \n",
    "    \n",
    "    mom_3 = np.mean(beta * alpha * np.exp(z_t1) * k[1:] ** (alpha - 1) *\n",
    "                     (c[:-1] / c[1:])-1)\n",
    "    \n",
    "    mom_4 = np.mean((beta * alpha * np.exp(z_t1) * k[1:] ** (alpha - 1) *\n",
    "                     (c[:-1] / c[1:])-1) * w[:-1])\n",
    "    \n",
    "#     mom_3 = np.mean(np.log(beta) + alpha + zi[1:] + (alpha - 1) * k[1:] +\n",
    "#                    c[:-1] - c[1:])\n",
    "#     mom_4 = np.mean((np.log(beta) + alpha  + zi[1:] + (alpha - 1) * k[1:] +\n",
    "#                    c[:-1] - c[1:]) * w[:-1])\n",
    "    return np.array([mom_1, mom_2, mom_3, mom_4])\n",
    "\n",
    "def criterion(params, *args):\n",
    "    alpha, beta, rho, mu = params\n",
    "    c, k, w, r, W = args\n",
    "    \n",
    "    mom_args = c, k, w, r\n",
    "    err_vec = get_moms(params, c, k, w, r)\n",
    "    \n",
    "    crit_val = np.dot(np.dot(err_vec.T, W), err_vec)\n",
    "    \n",
    "    return crit_val\n",
    "    "
   ]
  },
  {
   "cell_type": "code",
   "execution_count": 71,
   "metadata": {},
   "outputs": [],
   "source": [
    "alpha_0 = 0.0000001\n",
    "beta_0 = 0.01\n",
    "rho_0 = 0.8\n",
    "mu_0 = 10\n",
    "params_init = np.array([alpha_0, beta_0, rho_0, mu_0])\n",
    "W = np.identity(4)\n",
    "data = (c, k, w, r, W)"
   ]
  },
  {
   "cell_type": "code",
   "execution_count": 72,
   "metadata": {},
   "outputs": [
    {
     "data": {
      "text/plain": [
       "106301274989438.58"
      ]
     },
     "execution_count": 72,
     "metadata": {},
     "output_type": "execute_result"
    }
   ],
   "source": [
    "get_z(alpha_0, r, k)\n",
    "get_moms(params_init, c, k, w, r)\n",
    "criterion(params_init, c, k, w, r, W)"
   ]
  },
  {
   "cell_type": "code",
   "execution_count": 73,
   "metadata": {},
   "outputs": [
    {
     "data": {
      "text/plain": [
       "      fun: 0.0010119580209931851\n",
       " hess_inv: <4x4 LbfgsInvHessProduct with dtype=float64>\n",
       "      jac: array([  6.03766904e-03,   4.55503474e+05,  -2.60832758e-02,\n",
       "         0.00000000e+00])\n",
       "  message: b'CONVERGENCE: REL_REDUCTION_OF_F_<=_FACTR*EPSMCH'\n",
       "     nfev: 235\n",
       "      nit: 34\n",
       "   status: 0\n",
       "  success: True\n",
       "        x: array([ 0.98443373,  0.99      ,  1.        ,  9.9958868 ])"
      ]
     },
     "execution_count": 73,
     "metadata": {},
     "output_type": "execute_result"
    }
   ],
   "source": [
    "res = opt.minimize(criterion, params_init, args=data,\n",
    "                   method='L-BFGS-B',\n",
    "                   bounds=((1e-10, 1-1e-10), (1e-10, 1-1e-10), \n",
    "                          (1e-10 - 1, 1-1e-10), (1e-10, None)))\n",
    "res"
   ]
  },
  {
   "cell_type": "code",
   "execution_count": 74,
   "metadata": {},
   "outputs": [
    {
     "name": "stdout",
     "output_type": "stream",
     "text": [
      "Estimation results \n",
      "\n",
      "alpha:\t\t\t 0.984433730729 \n",
      "beta:\t\t\t 0.989999997058 \n",
      "rho:\t\t\t 0.9999999999 \n",
      "mu :\t\t\t 9.99588679925 \n",
      "criterion function:\t 0.00101195802099\n",
      "\n"
     ]
    }
   ],
   "source": [
    "alpha, beta, rho, mu = res.x\n",
    "crit = res.fun\n",
    "\n",
    "print('Estimation results',\n",
    "      '\\n\\nalpha:\\t\\t\\t', alpha,\n",
    "      '\\nbeta:\\t\\t\\t', beta,\n",
    "      '\\nrho:\\t\\t\\t', rho,\n",
    "      '\\nmu :\\t\\t\\t', mu,\n",
    "     '\\ncriterion function:\\t', crit)\n",
    "print()"
   ]
  },
  {
   "cell_type": "markdown",
   "metadata": {},
   "source": [
    "Beta is going close to 0.99 regardless of the initial values. However, all othher values only change very little compared to their strating values. This does not seem very reliable. Moreover, the criterion function changes only in the 5th decimals when I plug in substattially different values."
   ]
  }
 ],
 "metadata": {
  "kernelspec": {
   "display_name": "Python [default]",
   "language": "python",
   "name": "python3"
  },
  "language_info": {
   "codemirror_mode": {
    "name": "ipython",
    "version": 3
   },
   "file_extension": ".py",
   "mimetype": "text/x-python",
   "name": "python",
   "nbconvert_exporter": "python",
   "pygments_lexer": "ipython3",
   "version": "3.5.3"
  }
 },
 "nbformat": 4,
 "nbformat_minor": 2
}
